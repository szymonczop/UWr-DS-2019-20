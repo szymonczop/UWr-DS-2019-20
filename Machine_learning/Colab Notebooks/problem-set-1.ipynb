{
 "cells": [
  {
   "cell_type": "markdown",
   "metadata": {},
   "source": [
    "Rafał Nowak\n",
    "# Numerical Optimization\n",
    "## Problem set 1 (30 points)\n",
    "\n",
    "**Submission deadline**: Tuesday, 22.10.19\n",
    "\n",
    "* All submissions should contain single file.<br/>This can be single Jupyter notebook file (with extension `ipynb`) or ZIP archive in case the are some additional files needed.\n",
    "* It is recommended to write the reports using LaTeX. \n",
    "* One can report the answers, comments and results in PDF or notebook file.\n",
    "* All the source code should be written in Python or Julia."
   ]
  },
  {
   "cell_type": "markdown",
   "metadata": {},
   "source": [
    "**Problem 1.1 (10 pts)**\n",
    "\n",
    "In this problem you are going to solve the system of linear equations $Ax=b$, where $A\\in \\mathbb R^{n\\times n}$, $b\\in\\mathbb R^n$ are given.\n",
    "\n",
    "1. Implement the [Gauss elimination algorithm](https://www.wikiwand.com/en/Gaussian_elimination) that solves the system $Ax=b$. \n",
    "> `x = solve(A,b)`\n",
    "2. Test your algorithm with built-in solver (see [`\\`](https://docs.julialang.org/en/v1/stdlib/LinearAlgebra/#Base.:\\-Tuple{AbstractArray{T,2}%20where%20T,Union{AbstractArray{T,1},%20AbstractArray{T,2}}%20where%20T}) in Julia for example).<br/>\n",
    "One can perform the tests by taking $b := Ax$ for somehow generated vector (solution) $x\\in\\mathbb R^n$.\n",
    "3. Experiment with different kind of matrices $A$: symmetric, (2,3-)diagonal, hermitian, positive definite, ..., "
   ]
  },
  {
   "cell_type": "code",
   "execution_count": null,
   "metadata": {},
   "outputs": [],
   "source": []
  },
  {
   "cell_type": "markdown",
   "metadata": {},
   "source": [
    "**Problem 1.2 (5 pts)**\n",
    "\n",
    "Consider the following linear problem:\n",
    "```\n",
    "    maximize     2x+2y+z\n",
    "    \n",
    "                 | 1 1 1 |   | x |     | 5 |\n",
    "    subject to   | 1 1 0 | * | y |  <= | 4 |\n",
    "                 | 0 0 1 |   | z |     | 4 |\n",
    "                 \n",
    "                 x, y, z >= 0\n",
    "```\n",
    "* Plot the 3D polytope defined be the constraints. What is the number of vertices?\n",
    "* Solve the LP."
   ]
  },
  {
   "cell_type": "code",
   "execution_count": null,
   "metadata": {},
   "outputs": [],
   "source": []
  },
  {
   "cell_type": "markdown",
   "metadata": {},
   "source": [
    "**Problem 1.3 (10 pts)**\n",
    "\n",
    "Implement the simplex algorithm solving the problem\n",
    "```\n",
    "   minimize c^T x\n",
    "   subject to Ax = b and x >= 0\n",
    "```\n",
    "You can assume that the initial *feasible base* (see [BFS](https://www.wikiwand.com/en/Basic_feasible_solution)) $I$ is given.<br/>\n",
    "Your function should output the optimal value and the minimizer $x$."
   ]
  },
  {
   "cell_type": "code",
   "execution_count": null,
   "metadata": {},
   "outputs": [],
   "source": [
    "function simplex_method(I, c, A, b)\n",
    "    # write your implementation here\n",
    "    # ...\n",
    "    # return v, x\n",
    "end"
   ]
  },
  {
   "cell_type": "markdown",
   "metadata": {},
   "source": [
    "**Problem 1.4 (5 pts)**"
   ]
  },
  {
   "cell_type": "markdown",
   "metadata": {},
   "source": [
    "In the previous algorithm you may have probably observed a lot of inverse operations.\n",
    "\n",
    "This task is to implement *revised simplex algorithm* with incremental A inverse computation \n",
    "by using the **[Sherman-Morrison](https://www.wikiwand.com/en/Sherman%E2%80%93Morrison_formula)** formula for keeping track of the inverse matrix.\n",
    "\n",
    "Your program will be graded based on how fast it is.\n",
    "You should expect to see a factor 10-20 speedup depending on the problem instance."
   ]
  },
  {
   "cell_type": "code",
   "execution_count": null,
   "metadata": {},
   "outputs": [],
   "source": [
    "function revised_simplex_method(I, c, A, b)\n",
    "    # write your implementation here\n",
    "    # ...\n",
    "    return # v, x\n",
    "end"
   ]
  },
  {
   "cell_type": "markdown",
   "metadata": {},
   "source": [
    "---"
   ]
  },
  {
   "cell_type": "markdown",
   "metadata": {},
   "source": [
    "*Hint* You can test your code by using the `test-data.jld` archive containing the simple dictionary of data\n",
    "```julia\n",
    "using JLD, LinearAlgebra\n",
    "dataset = JLD.load(\"test_data.jld\")[\"data\"]\n",
    "\n",
    "method = simplex_method\n",
    "\n",
    "for test_id=1:30\n",
    "    data = dataset[test_id]\n",
    "    I,A,b,c,f,x = data[\"I\"], data[\"A\"], data[\"b\"], data[\"c\"], data[\"f\"], data[\"x\"]\n",
    "    v1,x1 = method(I, c, A, b)\n",
    "    if LinearAlgebra.norm(x1-x) < 1e-10\n",
    "        # :-)\n",
    "    else\n",
    "        # :-(\n",
    "    end\n",
    "end\n",
    "```"
   ]
  },
  {
   "cell_type": "markdown",
   "metadata": {},
   "source": [
    "Repeat the test with `method = revised_simplex_method` and compare the time elapsed for both method."
   ]
  }
 ],
 "metadata": {
  "kernelspec": {
   "display_name": "Julia 1.2.0",
   "language": "julia",
   "name": "julia-1.2"
  },
  "language_info": {
   "file_extension": ".jl",
   "mimetype": "application/julia",
   "name": "julia",
   "version": "1.2.0"
  }
 },
 "nbformat": 4,
 "nbformat_minor": 2
}
