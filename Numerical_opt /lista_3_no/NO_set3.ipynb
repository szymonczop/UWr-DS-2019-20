{
 "cells": [
  {
   "cell_type": "markdown",
   "metadata": {},
   "source": [
    "**Problem 3.1** (3 pts)\n",
    "\n",
    "In this problem we consider univariate function $f:\\mathbb R\\to\\mathbb R$.\n",
    "Let us remind the idea of bracketing method\n",
    "> _Bracketing_ is the process of identifying an interval in which a local minimum lies and then successively shrinking the interval.\n",
    "\n",
    "Implement the method `(a,b) = find_initial_bracket(f)` which for given function $f$ gives the bracketing interval $(a,b)$ such that there exist local minimum $c\\in(a,b)$ satisfying $f(a)>f(c)<f(b)$."
   ]
  },
  {
   "cell_type": "code",
   "execution_count": 1,
   "metadata": {},
   "outputs": [],
   "source": [
    "import numpy as np\n",
    "def find_initial_bracket(f, x=0, s=1e-2, k=2.0):\n",
    "    a, ya = x, f(x)\n",
    "    b, yb = a + s, f(a + s)\n",
    "    if yb > ya:\n",
    "        a, b = b, a\n",
    "        ya, yb = yb, ya\n",
    "        s = -s\n",
    "    while True:\n",
    "        c, yc = b + s, f(b + s)\n",
    "        if yc > yb:\n",
    "            if a > c:\n",
    "                a, c = c, a\n",
    "                return (a,c)\n",
    "            else:\n",
    "                return (a,c)\n",
    "        a, ya, b, yb = b, yb, c, yc\n",
    "        s = s*k"
   ]
  },
  {
   "cell_type": "code",
   "execution_count": 2,
   "metadata": {},
   "outputs": [
    {
     "name": "stdout",
     "output_type": "stream",
     "text": [
      "(-5.109999999999999, -1.27)\n"
     ]
    }
   ],
   "source": [
    "f = lambda x: 3*x**2 + np.exp(.3*x-9) + 20*x - 20\n",
    "(a,b)= find_initial_bracket(f)\n",
    "print((a,b))\n"
   ]
  },
  {
   "cell_type": "code",
   "execution_count": 5,
   "metadata": {},
   "outputs": [
    {
     "data": {
      "image/png": "[encoded data removed]",
      "text/plain": [
       "<Figure size 432x288 with 1 Axes>"
      ]
     },
     "metadata": {
      "needs_background": "light"
     },
     "output_type": "display_data"
    }
   ],
   "source": [
    "import matplotlib.pyplot as plt\n",
    "x = np.arange(a, b, .01)\n",
    "plt.plot(x, f(x))\n",
    "plt.show()"
   ]
  },
  {
   "cell_type": "markdown",
   "metadata": {},
   "source": [
    "**Problem 3.2** (4 pts)\n",
    "\n",
    "In this problem we consider [unimodal function](https://www.wikiwand.com/en/Unimodality#/Unimodal_function)\n",
    "and will play with _golden section search_ method.\n",
    "\n",
    "First you should implement the _Fibonacci search_ algorithm provided that you have the (global) array of Fibonacci numbers. Next you should implement the _golden section search_ which uses only _golden ratio_ $\\varphi = (1+\\sqrt 5)/2$.\n",
    "\n",
    "* Implement the [Fibonacci search algorithm](https://www.wikiwand.com/en/Golden-section_search#/Fibonacci_search)<br/>`(a, b) = fibonacci_search(f, a, b, n; ε=1e-4)`<br/>to be run on univariate function $f$, with bracketing interval $[a, b]$, for $n > 1$ function evaluations. It should return the new interval $(a, b)$. The optional parameter $\\varepsilon$ should control the lowest-level interval length.\n",
    "* Implement [Golden section search](https://www.wikiwand.com/en/Golden-section_search#)<br/>`(a, b) = gs_search(f, a, b, n)`<br/> to be run on a univariate function $f$ , with bracketing interval $[a, b]$ , for $n > 1$ function evaluations. It returns the new interval $(a, b)$. Guaranteeing convergence to within $\\varepsilon$ requires $n = (b-a)/(\\varepsilon \\ln\\varphi)$.\n",
    "\n",
    "Present the results on various kind of functions.\n",
    "\n",
    "References:\n",
    "- [Fibonacci Search in Optimization of Unimodal Functions](https://www.maplesoft.com/applications/view.aspx?SID=4193&view=html)\n",
    "- [Golden section search](https://www.wikiwand.com/en/Golden-section_search#)"
   ]
  },
  {
   "cell_type": "markdown",
   "metadata": {},
   "source": [
    "# Fibbonaci"
   ]
  },
  {
   "cell_type": "code",
   "execution_count": 6,
   "metadata": {},
   "outputs": [],
   "source": [
    "import numpy as np \n",
    "\n",
    "def Fib(n): \n",
    "    if n<2: \n",
    "        return n\n",
    "    else: \n",
    "        return Fib(n-1)+Fib(n-2) \n",
    "  \n",
    "  \n",
    "\n",
    "f = lambda x: - x**2 + 21.6*x + 3\n",
    "\n",
    "\n",
    "def fib_search(f,a,b,n,eps = 1e-4):\n",
    "    \n",
    "    n = n+3\n",
    "    \n",
    "    x1 = a + (Fib(n-2)*(b-a))/Fib(n)\n",
    "    x2 = a + (Fib(n-1)*(b-a))/Fib(n)\n",
    "    \n",
    "    if b-a < eps:\n",
    "            return[a,b]\n",
    "    \n",
    "    for i in range(1,n-2):\n",
    "        \n",
    "        \n",
    "        yx1 = f(x1)\n",
    "        yx2 = f(x2)\n",
    "        \n",
    "        if yx1 < yx2:\n",
    "            a = x1\n",
    "            x1 = x2\n",
    "            x2 = a + (Fib(n-1-i)*(b-a))/Fib(n-i)\n",
    "        \n",
    "        else:\n",
    "            b = x2\n",
    "            x2 = x1\n",
    "            x1 =a + (Fib(n-2-i)*(b-a))/Fib(n-i)\n",
    "        \n",
    "        print(f\"[{round(a,4)},{round(b,4)}] with len {round(b-a,5)}, iter:{i}\")\n",
    "    \n",
    "    return [a,b], round((a+b)/2,4)"
   ]
  },
  {
   "cell_type": "markdown",
   "metadata": {},
   "source": [
    "To check how our function is doing we will try on on $f(x) = -x^2 + 21.6x +3$.\n",
    "\n",
    "Of course we can check it for any other function."
   ]
  },
  {
   "cell_type": "code",
   "execution_count": 10,
   "metadata": {},
   "outputs": [
    {
     "name": "stdout",
     "output_type": "stream",
     "text": [
      "[19.0983,50] with len 30.9017, iter:1\n",
      "[30.9017,50] with len 19.0983, iter:2\n",
      "[38.1966,50] with len 11.8034, iter:3\n",
      "[42.7051,50] with len 7.2949, iter:4\n",
      "[45.4915,50] with len 4.5085, iter:5\n",
      "[47.2136,50] with len 2.7864, iter:6\n",
      "[48.2779,50] with len 1.72209, iter:7\n",
      "[48.9357,50] with len 1.06431, iter:8\n",
      "[49.3422,50] with len 0.65778, iter:9\n",
      "[49.5935,50] with len 0.40653, iter:10\n",
      "[49.7488,50] with len 0.25125, iter:11\n",
      "[49.8447,50] with len 0.15528, iter:12\n",
      "[49.904,50] with len 0.09596, iter:13\n",
      "[49.9407,50] with len 0.05932, iter:14\n",
      "[49.9634,50] with len 0.03664, iter:15\n",
      "[49.9773,50] with len 0.02268, iter:16\n",
      "[49.986,50] with len 0.01396, iter:17\n",
      "[49.9913,50] with len 0.00872, iter:18\n",
      "[49.9948,50] with len 0.00523, iter:19\n",
      "[49.9965,50] with len 0.00349, iter:20\n"
     ]
    },
    {
     "data": {
      "text/plain": [
       "([49.99651045119866, 50], 49.9983)"
      ]
     },
     "execution_count": 10,
     "metadata": {},
     "output_type": "execute_result"
    }
   ],
   "source": [
    "f = lambda x: - x**2 + 21.6*x + 3\n",
    "f2 = lambda x: - x**2 + 21.6*np.exp(x-15) + 3\n",
    "f3 = lambda x: x**3 - x**4 + 21.6*np.exp(x-15) + 3 - np.log2(x**3-3*x**2)\n",
    "fib_search(f3,0,50,20,.001)  # change f_ for the another outcome\n"
   ]
  },
  {
   "cell_type": "markdown",
   "metadata": {},
   "source": [
    "# Golden section "
   ]
  },
  {
   "cell_type": "code",
   "execution_count": 14,
   "metadata": {},
   "outputs": [],
   "source": [
    "from math import * \n",
    "\n",
    "\n",
    "def gs_search(f,a,b,n):\n",
    "    \n",
    "    gr = (sqrt(5) + 1) / 2\n",
    "    \n",
    "    x1 = b - (b - a) / gr # dzieli tak samo jak fibbonci\n",
    "    x2 = a + (b - a) / gr\n",
    "    \n",
    "    for i in range(n):\n",
    "        \n",
    "        if f(x1) < f(x2):\n",
    "            a = x1\n",
    "        else:\n",
    "            b = x2\n",
    "            \n",
    "        x1 = b - (b - a) / gr # dzieli tak samo jak fibbonci\n",
    "        x2 = a + (b - a) / gr\n",
    "        \n",
    "        #print(f\"[{round(a,4)},{round(b,4)}] with len {round(b-a,5)}, iter:{i},value {round(min(f(x1),f(x2)),3)}\")\n",
    "        \n",
    "    return[a,b]"
   ]
  },
  {
   "cell_type": "code",
   "execution_count": 15,
   "metadata": {},
   "outputs": [
    {
     "data": {
      "text/plain": [
       "[4.9999999999999964, 4.999999999999997]"
      ]
     },
     "execution_count": 15,
     "metadata": {},
     "output_type": "execute_result"
    }
   ],
   "source": [
    "f_intresting =lambda y: (y-2)**2\n",
    "f = lambda x: - x**2 + 21.6*x + 3\n",
    "f2 = lambda x: - x**2 + 21.6*np.exp(x-15) + 3\n",
    "f3 = lambda x: x**3 - x**4 + 21.6*np.exp(x-15) + 3 - np.log2(x**3-3*x**2)\n",
    "\n",
    "gr = (sqrt(5) + 1) / 2\n",
    "eps = 1e-4\n",
    "n =int(round( 4/(eps*np.log(gr))))\n",
    "gs_search(f_intresting,1,5,n) # change f_ for the another outcome"
   ]
  },
  {
   "cell_type": "markdown",
   "metadata": {},
   "source": [
    "**Problem 3.3.** (5 pts)\n",
    "\n",
    "Observe that the previous methods require only to evaluate the value of the objective function $f$.\n",
    "From now we assume we know also its derivative.<br/>\n",
    "For example, consider the function\n",
    "$$ f(x) = x^4 + 16x^2 + 18(x-4) e^x\\qquad (x\\in\\mathbb R). $$"
   ]
  },
  {
   "cell_type": "markdown",
   "metadata": {},
   "source": [
    "***For the next results this is extremley important that if we want to change fuction we should do this in chunk below.Otherwise my_func will always give results of the function that was previously assigned. Our first function is defined as f. To have another function simply change the foruma after '=' mark. *** "
   ]
  },
  {
   "cell_type": "code",
   "execution_count": 37,
   "metadata": {},
   "outputs": [
    {
     "data": {
      "text/plain": [
       "(512.0, 1366.7667005965964)"
      ]
     },
     "execution_count": 37,
     "metadata": {},
     "output_type": "execute_result"
    }
   ],
   "source": [
    "from sympy import * \n",
    "import numpy as np\n",
    "\n",
    "x = Symbol('x')\n",
    "f = x**4 + 16*x**2 + 18*(x-4)*exp(x)\n",
    "#f = x**2 + 2 - x**4 * log(x**7-3942638)\n",
    "f_prime = diff(f)\n",
    "f = lambdify(x,f)\n",
    "f_prime = lambdify(x, f_prime)\n",
    "def my_func(x,order = 0):\n",
    "    value = f(x)\n",
    "    if order == 0:\n",
    "        return value\n",
    "    elif order ==1:\n",
    "        gradient = f_prime(x)\n",
    "    return value,gradient\n",
    "\n",
    "v,g = my_func(4,1)\n",
    "v,g"
   ]
  },
  {
   "cell_type": "markdown",
   "metadata": {},
   "source": [
    "# Bisection "
   ]
  },
  {
   "cell_type": "code",
   "execution_count": 27,
   "metadata": {},
   "outputs": [],
   "source": [
    "def bisection(MIN,MAX,epsilon = 1e-5, max_iter = 65536):\n",
    "    counter = 0 \n",
    "    while counter <= max_iter:\n",
    "        counter += 1 \n",
    "        MID = (MAX + MIN) / 2\n",
    "        \n",
    "        value,gradient = my_func(MID,order = 1)\n",
    "        \n",
    "        #TODO: suboptimality \n",
    "        \n",
    "        suboptimality = MAX - MIN\n",
    "        \n",
    "        if suboptimality <= epsilon:\n",
    "            break\n",
    "        \n",
    "        if gradient > 0:\n",
    "            MAX = MID\n",
    "            \n",
    "        else:\n",
    "            MIN = MID\n",
    "        \n",
    "        print(f\"Interval is {[MIN,MAX]}\")\n",
    "        print(f\"Number of iterations {counter}\")\n",
    "        print(f\"Suboptimal point{MID}\")\n",
    "        print(f\"Suboptimal value {value}\")\n",
    "        \n",
    "    return MID"
   ]
  },
  {
   "cell_type": "code",
   "execution_count": 32,
   "metadata": {
    "scrolled": true
   },
   "outputs": [
    {
     "name": "stdout",
     "output_type": "stream",
     "text": [
      "Interval is [0.0, 10]\n",
      "Number of iterations 1\n",
      "Suboptimal point0.0\n",
      "Suboptimal value (2+0j)\n",
      "Interval is [5.0, 10]\n",
      "Number of iterations 2\n",
      "Suboptimal point5.0\n",
      "Suboptimal value (-9452.59139342334-1963.4954084936207j)\n",
      "Interval is [7.5, 10]\n",
      "Number of iterations 3\n",
      "Suboptimal point7.5\n",
      "Suboptimal value (-46687.66373180734-9940.195505498954j)\n",
      "Interval is [7.5, 8.75]\n",
      "Number of iterations 4\n",
      "Suboptimal point8.75\n",
      "Suboptimal value (-56547.0242461581-18415.43935856712j)\n",
      "Interval is [8.125, 8.75]\n",
      "Number of iterations 5\n",
      "Suboptimal point8.125\n",
      "Suboptimal value (-62202.94904359106-13691.257900875562j)\n",
      "Interval is [8.4375, 8.75]\n",
      "Number of iterations 6\n",
      "Suboptimal point8.4375\n",
      "Suboptimal value (-69403.08883494341-15922.271169819005j)\n",
      "Interval is [8.59375, 8.75]\n",
      "Number of iterations 7\n",
      "Suboptimal point8.59375\n",
      "Suboptimal value (-71285.04790120028-17134.86687884039j)\n",
      "Interval is [8.59375, 8.671875]\n",
      "Number of iterations 8\n",
      "Suboptimal point8.671875\n",
      "Suboptimal value (-70317.08673731722-17766.501187116075j)\n",
      "Interval is [8.59375, 8.6328125]\n",
      "Number of iterations 9\n",
      "Suboptimal point8.6328125\n",
      "Suboptimal value (-71123.7583933597-17448.540514206357j)\n",
      "Interval is [8.59375, 8.61328125]\n",
      "Number of iterations 10\n",
      "Suboptimal point8.61328125\n",
      "Suboptimal value (-71261.5679510857-17291.170240245632j)\n",
      "Interval is [8.59375, 8.603515625]\n",
      "Number of iterations 11\n",
      "Suboptimal point8.603515625\n",
      "Suboptimal value (-71285.68759321884-17212.885497800457j)\n",
      "Interval is [8.5986328125, 8.603515625]\n",
      "Number of iterations 12\n",
      "Suboptimal point8.5986328125\n",
      "Suboptimal value (-71288.26317213112-17173.84296063814j)\n",
      "Interval is [8.5986328125, 8.60107421875]\n",
      "Number of iterations 13\n",
      "Suboptimal point8.60107421875\n",
      "Suboptimal value (-71287.72270580189-17193.355917581233j)\n",
      "Interval is [8.5986328125, 8.599853515625]\n",
      "Number of iterations 14\n",
      "Suboptimal point8.599853515625\n",
      "Suboptimal value (-71288.176750876-17183.59736178996j)\n",
      "Interval is [8.5986328125, 8.5992431640625]\n",
      "Number of iterations 15\n",
      "Suboptimal point8.5992431640625\n",
      "Suboptimal value (-71288.26554481391-17178.719641957836j)\n",
      "Interval is [8.59893798828125, 8.5992431640625]\n",
      "Number of iterations 16\n",
      "Suboptimal point8.59893798828125\n",
      "Suboptimal value (-71288.27570856125-17176.281171493145j)\n",
      "Interval is [8.59893798828125, 8.599090576171875]\n",
      "Number of iterations 17\n",
      "Suboptimal point8.599090576171875\n",
      "Suboptimal value (-71288.27346990637-17177.50037427313j)\n",
      "Interval is [8.59893798828125, 8.599014282226562]\n",
      "Number of iterations 18\n",
      "Suboptimal point8.599014282226562\n",
      "Suboptimal value (-71288.27529932513-17176.89076477019j)\n",
      "Interval is [8.59893798828125, 8.598976135253906]\n",
      "Number of iterations 19\n",
      "Suboptimal point8.598976135253906\n",
      "Suboptimal value (-71288.27568137697-17176.585966103452j)\n",
      "Interval is [8.59893798828125, 8.598957061767578]\n",
      "Number of iterations 20\n",
      "Suboptimal point8.598957061767578\n",
      "Suboptimal value (-71288.27573931642-17176.433568291246j)\n",
      "Interval is [8.598947525024414, 8.598957061767578]\n",
      "Number of iterations 21\n",
      "Suboptimal point8.598947525024414\n",
      "Suboptimal value (-71288.27573502428-17176.357369765432j)\n"
     ]
    },
    {
     "data": {
      "text/plain": [
       "8.598952293395996"
      ]
     },
     "execution_count": 32,
     "metadata": {},
     "output_type": "execute_result"
    }
   ],
   "source": [
    "bisection(-10,10)"
   ]
  },
  {
   "cell_type": "markdown",
   "metadata": {},
   "source": [
    "**Problem 3.4** (3 pts)\n",
    "\n",
    "Implement the *line_search* algorithm, which general idea is as follow:\n",
    "```julia\n",
    "function line_search(f, x, d)\n",
    "    objective = α -> f(x + α*d)\n",
    "    a, b = bracket_minimum(objective)\n",
    "    α = minimize(objective, a, b)\n",
    "    return x + α*d\n",
    "end\n",
    "```"
   ]
  },
  {
   "cell_type": "markdown",
   "metadata": {},
   "source": [
    "I'm extremley sorry but I really dont know how it should work and Julia code is not makeing it simpler for me. \n",
    "To do something that is correlated with this problem I implemented method from \n",
    "[Line search](https://en.wikipedia.org/wiki/Line_search)<br/> \n",
    "What is show belowe is `Example use` from this webside. I also changed it a bit. I'm starting from default alpha and moving through the X axis. When I see that sign of my gradinet has changed i know tha I have to go in opposite direction direction but in the same time I'm making alpha smaller. This is working prety well for both cases when $x_0$ is close or very far from the optimal minimal x. Function is ending when value of the   absolute value of gradinet is smaller then epsilon or when number of iterations is done."
   ]
  },
  {
   "cell_type": "code",
   "execution_count": 35,
   "metadata": {},
   "outputs": [],
   "source": [
    "def exact_line_search(f,k,direction, eps = 1e-9,max_iter = 65536):\n",
    "    counter = 0 \n",
    "    alpha = 10\n",
    "    x_k = k\n",
    "    value,grad = my_func(k,order = 1)\n",
    "    \n",
    "    while counter <= max_iter:\n",
    "        \n",
    "        counter += 1\n",
    "        x_k = x_k + alpha*direction\n",
    "        value_k,grad_k = my_func(x_k,order = 1)\n",
    "        \n",
    "        if np.sign(grad) != np.sign(grad_k):\n",
    "            direction = -1*direction\n",
    "            alpha *= 0.1\n",
    "        \n",
    "        grad = grad_k\n",
    "        \n",
    "        if abs(grad) <= eps:\n",
    "            break\n",
    "        \n",
    "#        if alpha <= eps:\n",
    "#            break\n",
    "        \n",
    "        print(f\"Number of iterations {counter}\")\n",
    "        print(f\"my x is  {x_k}\")\n",
    "        print(f\"line_search value {value_k}\")\n",
    "        \n",
    "    return x_k,value_k,grad"
   ]
  },
  {
   "cell_type": "code",
   "execution_count": 38,
   "metadata": {},
   "outputs": [
    {
     "name": "stdout",
     "output_type": "stream",
     "text": [
      "Number of iterations 1\n",
      "my x is  10\n",
      "line_search value 2390458.3058391255\n",
      "Number of iterations 2\n",
      "my x is  9.0\n",
      "line_search value 737134.5534817845\n",
      "Number of iterations 3\n",
      "my x is  8.0\n",
      "line_search value 219748.97506700445\n",
      "Number of iterations 4\n",
      "my x is  7.0\n",
      "line_search value 62403.19055513676\n",
      "Number of iterations 5\n",
      "my x is  6.0\n",
      "line_search value 16395.436565738462\n",
      "Number of iterations 6\n",
      "my x is  5.0\n",
      "line_search value 3696.436863846379\n",
      "Number of iterations 7\n",
      "my x is  4.0\n",
      "line_search value 512.0\n",
      "Number of iterations 8\n",
      "my x is  3.0\n",
      "line_search value -136.53966461737804\n",
      "Number of iterations 9\n",
      "my x is  2.0\n",
      "line_search value -186.00601956150342\n",
      "Number of iterations 10\n",
      "my x is  2.1\n",
      "line_search value -189.27491100981365\n",
      "Number of iterations 11\n",
      "my x is  2.2\n",
      "line_search value -191.5448373816655\n",
      "Number of iterations 12\n",
      "my x is  2.3000000000000003\n",
      "line_search value -192.58588311733044\n",
      "Number of iterations 13\n",
      "my x is  2.4000000000000004\n",
      "line_search value -192.12987976247817\n",
      "Number of iterations 14\n",
      "my x is  2.3900000000000006\n",
      "line_search value -192.25136805935637\n",
      "Number of iterations 15\n",
      "my x is  2.380000000000001\n",
      "line_search value -192.35514015223544\n",
      "Number of iterations 16\n",
      "my x is  2.370000000000001\n",
      "line_search value -192.44152400581822\n",
      "Number of iterations 17\n",
      "my x is  2.360000000000001\n",
      "line_search value -192.51084271584529\n",
      "Number of iterations 18\n",
      "my x is  2.3500000000000014\n",
      "line_search value -192.56341457440897\n",
      "Number of iterations 19\n",
      "my x is  2.3400000000000016\n",
      "line_search value -192.59955313442748\n",
      "Number of iterations 20\n",
      "my x is  2.330000000000002\n",
      "line_search value -192.61956727328607\n",
      "Number of iterations 21\n",
      "my x is  2.320000000000002\n",
      "line_search value -192.62376125565768\n",
      "Number of iterations 22\n",
      "my x is  2.321000000000002\n",
      "line_search value -192.62404518722758\n",
      "Number of iterations 23\n",
      "my x is  2.322000000000002\n",
      "line_search value -192.62417362039747\n",
      "Number of iterations 24\n",
      "my x is  2.3230000000000017\n",
      "line_search value -192.62414625703917\n",
      "Number of iterations 25\n",
      "my x is  2.3229000000000015\n",
      "line_search value -192.6241560127247\n",
      "Number of iterations 26\n",
      "my x is  2.3228000000000013\n",
      "line_search value -192.62416420775838\n",
      "Number of iterations 27\n",
      "my x is  2.322700000000001\n",
      "line_search value -192.62417084243884\n",
      "Number of iterations 28\n",
      "my x is  2.322600000000001\n",
      "line_search value -192.6241759170648\n",
      "Number of iterations 29\n",
      "my x is  2.3225000000000007\n",
      "line_search value -192.62417943193495\n",
      "Number of iterations 30\n",
      "my x is  2.3224000000000005\n",
      "line_search value -192.62418138734785\n",
      "Number of iterations 31\n",
      "my x is  2.3223000000000003\n",
      "line_search value -192.62418178360213\n",
      "Number of iterations 32\n",
      "my x is  2.3223100000000003\n",
      "line_search value -192.62418181413022\n",
      "Number of iterations 33\n",
      "my x is  2.3223200000000004\n",
      "line_search value -192.62418182906958\n",
      "Number of iterations 34\n",
      "my x is  2.3223300000000004\n",
      "line_search value -192.6241818284197\n",
      "Number of iterations 35\n",
      "my x is  2.3223290000000003\n",
      "line_search value -192.62418182918623\n",
      "Number of iterations 36\n",
      "my x is  2.322328\n",
      "line_search value -192.62418182979684\n",
      "Number of iterations 37\n",
      "my x is  2.322327\n",
      "line_search value -192.62418183025153\n",
      "Number of iterations 38\n",
      "my x is  2.322326\n",
      "line_search value -192.62418183055036\n",
      "Number of iterations 39\n",
      "my x is  2.3223249999999998\n",
      "line_search value -192.62418183069332\n",
      "Number of iterations 40\n",
      "my x is  2.3223239999999996\n",
      "line_search value -192.62418183068036\n",
      "Number of iterations 41\n",
      "my x is  2.3223240999999994\n",
      "line_search value -192.62418183068866\n",
      "Number of iterations 42\n",
      "my x is  2.3223241999999993\n",
      "line_search value -192.62418183069536\n",
      "Number of iterations 43\n",
      "my x is  2.322324299999999\n",
      "line_search value -192.62418183070065\n",
      "Number of iterations 44\n",
      "my x is  2.322324399999999\n",
      "line_search value -192.62418183070417\n",
      "Number of iterations 45\n",
      "my x is  2.322324499999999\n",
      "line_search value -192.62418183070628\n",
      "Number of iterations 46\n",
      "my x is  2.3223245999999986\n",
      "line_search value -192.62418183070685\n",
      "Number of iterations 47\n",
      "my x is  2.3223245899999987\n",
      "line_search value -192.62418183070687\n",
      "Number of iterations 48\n",
      "my x is  2.3223245799999988\n",
      "line_search value -192.62418183070682\n",
      "Number of iterations 49\n",
      "my x is  2.322324580999999\n",
      "line_search value -192.62418183070682\n",
      "Number of iterations 50\n",
      "my x is  2.322324581999999\n",
      "line_search value -192.62418183070682\n",
      "Number of iterations 51\n",
      "my x is  2.322324582999999\n",
      "line_search value -192.62418183070682\n",
      "Number of iterations 52\n",
      "my x is  2.322324583999999\n",
      "line_search value -192.62418183070682\n",
      "Number of iterations 53\n",
      "my x is  2.322324583899999\n",
      "line_search value -192.6241818307069\n",
      "Number of iterations 54\n",
      "my x is  2.322324583799999\n",
      "line_search value -192.62418183070685\n",
      "Number of iterations 55\n",
      "my x is  2.322324583699999\n",
      "line_search value -192.62418183070687\n",
      "Number of iterations 56\n",
      "my x is  2.322324583599999\n",
      "line_search value -192.62418183070685\n",
      "Number of iterations 57\n",
      "my x is  2.322324583499999\n",
      "line_search value -192.6241818307069\n",
      "Number of iterations 58\n",
      "my x is  2.322324583399999\n",
      "line_search value -192.62418183070687\n",
      "Number of iterations 59\n",
      "my x is  2.322324583299999\n",
      "line_search value -192.6241818307069\n",
      "Number of iterations 60\n",
      "my x is  2.322324583199999\n",
      "line_search value -192.6241818307068\n",
      "Number of iterations 61\n",
      "my x is  2.322324583099999\n",
      "line_search value -192.6241818307069\n",
      "Number of iterations 62\n",
      "my x is  2.322324583109999\n",
      "line_search value -192.62418183070685\n",
      "Number of iterations 63\n",
      "my x is  2.322324583119999\n",
      "line_search value -192.6241818307068\n"
     ]
    },
    {
     "data": {
      "text/plain": [
       "(2.322324583129999, -192.62418183070685, 2.461888470861595e-10)"
      ]
     },
     "execution_count": 38,
     "metadata": {},
     "output_type": "execute_result"
    }
   ],
   "source": [
    "exact_line_search(f,0,1)"
   ]
  },
  {
   "cell_type": "markdown",
   "metadata": {},
   "source": [
    "**Problem 3.5.** (3 pts)"
   ]
  },
  {
   "cell_type": "markdown",
   "metadata": {},
   "source": [
    "# Backtracking_line_search"
   ]
  },
  {
   "cell_type": "code",
   "execution_count": 40,
   "metadata": {},
   "outputs": [],
   "source": [
    "def backtracking_line_search( f, k, direction, alpha=0.4, beta=0.9, maximum_iterations=65536 ):\n",
    "    counter = 0 \n",
    "    value,grad = my_func(k,order = 1)\n",
    "    x_k = k + alpha*direction\n",
    "    value_k,grad_k = my_func(x_k,order = 1)\n",
    "    \n",
    "    if grad*direction < 0 :\n",
    "        pass\n",
    "    else:\n",
    "        direction = -1*direction\n",
    "    \n",
    "    while value + alpha*beta*grad*direction < value_k:\n",
    "        alpha = 1/2 *alpha\n",
    "        x_k = k + alpha*direction\n",
    "        value_k,grad_k = my_func(x_k,order = 1)\n",
    "        counter += 1 \n",
    "        \n",
    "        print(f\"my alpha {alpha}\")\n",
    "        \n",
    "        if counter > maximum_iterations:\n",
    "            break\n",
    "    \n",
    "    return alpha"
   ]
  },
  {
   "cell_type": "markdown",
   "metadata": {},
   "source": [
    "To make it complicated for the backtracking_line_search f function we will set $f(x) = x^2$ and intial $x_0$ very close to optimal minimum. So alpha really needs to 'melt'."
   ]
  },
  {
   "cell_type": "code",
   "execution_count": 42,
   "metadata": {},
   "outputs": [
    {
     "name": "stdout",
     "output_type": "stream",
     "text": [
      "my alpha 0.2\n",
      "my alpha 0.1\n",
      "my alpha 0.05\n",
      "my alpha 0.025\n",
      "my alpha 0.0125\n",
      "my alpha 0.00625\n",
      "my alpha 0.003125\n",
      "my alpha 0.0015625\n"
     ]
    },
    {
     "data": {
      "text/plain": [
       "0.0015625"
      ]
     },
     "execution_count": 42,
     "metadata": {},
     "output_type": "execute_result"
    }
   ],
   "source": [
    "x = Symbol('x')\n",
    "f = x**2\n",
    "f_prime = diff(f)\n",
    "f = lambdify(x,f)\n",
    "f_prime = lambdify(x, f_prime)       \n",
    "\n",
    "backtracking_line_search( f, 0.01, 1, alpha=0.4, beta=0.9, maximum_iterations=65536 )"
   ]
  },
  {
   "cell_type": "markdown",
   "metadata": {},
   "source": [
    "***Please if You will have any questions sir, let me know and we will try to figure out what is going on in this madness ;)***"
   ]
  },
  {
   "cell_type": "markdown",
   "metadata": {},
   "source": [
    "Made and described by Szymon Czop s292913"
   ]
  }
 ],
 "metadata": {
  "kernelspec": {
   "display_name": "Python 3",
   "language": "python",
   "name": "python3"
  },
  "language_info": {
   "codemirror_mode": {
    "name": "ipython",
    "version": 3
   },
   "file_extension": ".py",
   "mimetype": "text/x-python",
   "name": "python",
   "nbconvert_exporter": "python",
   "pygments_lexer": "ipython3",
   "version": "3.7.3"
  }
 },
 "nbformat": 4,
 "nbformat_minor": 2
}
