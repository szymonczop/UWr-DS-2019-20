{
 "cells": [
  {
   "cell_type": "markdown",
   "metadata": {
    "colab_type": "text",
    "id": "-20M7bX2-OOS"
   },
   "source": [
    "Rafał Nowak\n",
    "# Numerical Optimization\n",
    "## Problem set 1 (30 points)\n",
    "\n",
    "**Submission deadline**: Tuesday, 22.10.19\n",
    "\n",
    "* All submissions should contain single file.<br/>This can be single Jupyter notebook file (with extension `ipynb`) or ZIP archive in case the are some additional files needed.\n",
    "* It is recommended to write the reports using LaTeX. \n",
    "* One can report the answers, comments and results in PDF or notebook file.\n",
    "* All the source code should be written in Python or Julia."
   ]
  },
  {
   "cell_type": "markdown",
   "metadata": {},
   "source": [
    "### Szymon Czop 292913"
   ]
  },
  {
   "cell_type": "markdown",
   "metadata": {
    "colab_type": "text",
    "id": "mfnJyf8h-OOW"
   },
   "source": [
    "**Problem 1.1 (10 pts)**\n",
    "\n",
    "In this problem you are going to solve the system of linear equations $Ax=b$, where $A\\in \\mathbb R^{n\\times n}$, $b\\in\\mathbb R^n$ are given.\n",
    "\n",
    "1. Implement the [Gauss elimination algorithm](https://www.wikiwand.com/en/Gaussian_elimination) that solves the system $Ax=b$. \n",
    "> `x = solve(A,b)`\n",
    "2. Test your algorithm with built-in solver (see [`\\`](https://docs.julialang.org/en/v1/stdlib/LinearAlgebra/#Base.:\\-Tuple{AbstractArray{T,2}%20where%20T,Union{AbstractArray{T,1},%20AbstractArray{T,2}}%20where%20T}) in Julia for example).<br/>\n",
    "One can perform the tests by taking $b := Ax$ for somehow generated vector (solution) $x\\in\\mathbb R^n$.\n",
    "3. Experiment with different kind of matrices $A$: symmetric, (2,3-)diagonal, hermitian, positive definite, ..., "
   ]
  },
  {
   "cell_type": "code",
   "execution_count": 6,
   "metadata": {
    "colab": {},
    "colab_type": "code",
    "id": "A9EdV47y-OOY"
   },
   "outputs": [],
   "source": [
    "import numpy as np \n",
    "def solve(A,beta,scizor = False):\n",
    "    A = A.astype(float)\n",
    "    rows,col = A.shape\n",
    "    if rows > col:\n",
    "        pom_A  = A\n",
    "        pom_beta  = beta\n",
    "        scizor = True\n",
    "        A = A[:col,:]\n",
    "        beta = beta[:col] \n",
    "    \n",
    "    \n",
    "    X = np.hstack([A,beta.reshape(-1,1)]) \n",
    "    dim = X.shape[0] \n",
    "    \n",
    "    while A[1,1] ==0: \n",
    "        A = A[np.random.permutation(np.arange(dim)),:]\n",
    "    \n",
    "    \n",
    "    for i in range(dim): \n",
    "        a = X[i]\n",
    "        for j in range(i+1,dim):\n",
    "            b = X[j]\n",
    "            mnoznik = b[i]/a[i]\n",
    "            X[j] = b - mnoznik*a\n",
    "            \n",
    "    if b[j]==0 and b[j+1] != 0: \n",
    "        raise ValueError('Układ jest sprzeczny')\n",
    "        \n",
    "    X = X[~np.all(X == 0, axis=1)]\n",
    "    dim = X.shape[0]\n",
    "    \n",
    "    for i in range(dim-1,-1,-1):\n",
    "        a = X[i]\n",
    "        X[i] = X[i]/X[i,i]\n",
    "        for j in range(i -1,-1,-1):\n",
    "            b = X[j]\n",
    "            mnoznik_2= b[i]/a[i]\n",
    "            X[j] = b - mnoznik_2*a\n",
    "    \n",
    "    if scizor == True:\n",
    "        beta2 = pom_beta[col:]\n",
    "        rozw = X[:,-1]\n",
    "        if sum(pom_A[dim:,:] @ rozw == beta2) != len(beta2):\n",
    "            raise ValueError('Układ jest sprzeczny')\n",
    "            \n",
    "        \n",
    "    \n",
    "    return X"
   ]
  },
  {
   "cell_type": "markdown",
   "metadata": {},
   "source": [
    "Code that I wrote is solving problem for most kind of matrices. \n",
    "\n",
    "At the first stage program is checking weather or not we have more rows then columns($A_{m x n} m>n$), \n",
    "if so im cutting this object to square matrix, in other case nothing changes. \n",
    "Then I'm binding matrix $ A$ with vector of responses$ b$ and create matrix $X = [A,b]$\n",
    "\n",
    "To start my algorithm i need to have a value different that zero on the top right corner so I'm permuting my rows until non-zero value appears in this place.\n",
    "\n",
    "Than iI want all values to in first column to be zero (except first row), then i repeat it until I have upper-triangle matrix. After this I check if any zero rows appear, if so, I'm deleting them and I know that my system of equations has conditional solutions. On the other hand I'm checking if there is situation that  one of the rows in right side of equation (only previous $A$ part) is equal to zero but the left side ($b$) is not. It that case i have  contradictory system of equations and program will show error.  \n",
    "\n",
    "After that im eliminating other values in rows to get  diagonal matrix. On diagonals, there should be only ones so it's easy to see what is a value of certain variable. If my system of equations is has conditional then output won't be diagonal matrix but one that can be parametrized in proper way. For the case when I have more rows then columns I'm checking my solution for the rest of the rows, if one of them is different I raise value error"
   ]
  },
  {
   "cell_type": "markdown",
   "metadata": {},
   "source": [
    "# Tests"
   ]
  },
  {
   "cell_type": "markdown",
   "metadata": {},
   "source": [
    "Test. Sorry Im not after CS study so my tests are not so complicated (but i'm keen to learn how to make those!) but I tried to cover some of them  in given examples."
   ]
  },
  {
   "cell_type": "markdown",
   "metadata": {},
   "source": [
    "On diagonal matrix (randomly generated x)"
   ]
  },
  {
   "cell_type": "code",
   "execution_count": 8,
   "metadata": {},
   "outputs": [
    {
     "data": {
      "text/plain": [
       "(array([-1.29506261, -0.13686072,  4.77249725, -3.00377373,  0.48858399,\n",
       "         2.52206109,  2.96365655,  4.6472396 , -3.0888677 ,  0.12723991]), 0.0)"
      ]
     },
     "execution_count": 8,
     "metadata": {},
     "output_type": "execute_result"
    }
   ],
   "source": [
    "A = np.diag(np.arange(1,11))\n",
    "x = np.random.rand(10)*10 -5\n",
    "beta = (A @ x).reshape(1,-1) # musi być podawane jako wektor poziomy nie pionowy \n",
    "\n",
    "solution = solve(A,beta)\n",
    "err = sum((solution[:,-1] - x)**2)\n",
    "solution[:,-1],err"
   ]
  },
  {
   "cell_type": "markdown",
   "metadata": {},
   "source": [
    "On symmetric matrix (random x and A)"
   ]
  },
  {
   "cell_type": "code",
   "execution_count": 9,
   "metadata": {},
   "outputs": [
    {
     "data": {
      "text/plain": [
       "(array([-0.03355632, -8.26945082, -0.85044268,  4.7405376 , 23.0568342 ]),\n",
       " 4.2673629472049143e-26)"
      ]
     },
     "execution_count": 9,
     "metadata": {},
     "output_type": "execute_result"
    }
   ],
   "source": [
    "A = np.random.randint(1000,size = (5,5))\n",
    "A = A + A.T - np.diag(A.diagonal())\n",
    "x = np.random.rand(5)*100 -20\n",
    "beta = (A @ x).reshape(1,-1)\n",
    "solution = solve(A,beta)\n",
    "err = sum((solution[:,-1] - x)**2)\n",
    "solution[:,-1],err"
   ]
  },
  {
   "cell_type": "markdown",
   "metadata": {},
   "source": [
    "5x2 Matrix with no solution "
   ]
  },
  {
   "cell_type": "code",
   "execution_count": 10,
   "metadata": {},
   "outputs": [
    {
     "ename": "ValueError",
     "evalue": "Układ jest sprzeczny",
     "output_type": "error",
     "traceback": [
      "\u001b[0;31m---------------------------------------------------------------------------\u001b[0m",
      "\u001b[0;31mValueError\u001b[0m                                Traceback (most recent call last)",
      "\u001b[0;32m<ipython-input-10-b905bd146351>\u001b[0m in \u001b[0;36m<module>\u001b[0;34m\u001b[0m\n\u001b[1;32m      1\u001b[0m \u001b[0mA\u001b[0m \u001b[0;34m=\u001b[0m  \u001b[0mnp\u001b[0m\u001b[0;34m.\u001b[0m\u001b[0marray\u001b[0m\u001b[0;34m(\u001b[0m\u001b[0;34m[\u001b[0m\u001b[0;34m[\u001b[0m\u001b[0;36m60\u001b[0m\u001b[0;34m,\u001b[0m \u001b[0;36m91\u001b[0m\u001b[0;34m]\u001b[0m\u001b[0;34m,\u001b[0m \u001b[0;34m[\u001b[0m\u001b[0;36m60\u001b[0m\u001b[0;34m,\u001b[0m \u001b[0;36m3\u001b[0m\u001b[0;34m]\u001b[0m\u001b[0;34m,\u001b[0m \u001b[0;34m[\u001b[0m\u001b[0;36m45\u001b[0m\u001b[0;34m,\u001b[0m \u001b[0;36m90\u001b[0m\u001b[0;34m]\u001b[0m\u001b[0;34m,\u001b[0m\u001b[0;34m[\u001b[0m\u001b[0;36m32\u001b[0m\u001b[0;34m,\u001b[0m\u001b[0;36m12\u001b[0m\u001b[0;34m]\u001b[0m\u001b[0;34m,\u001b[0m\u001b[0;34m[\u001b[0m\u001b[0;36m3\u001b[0m\u001b[0;34m,\u001b[0m\u001b[0;36m2\u001b[0m\u001b[0;34m]\u001b[0m\u001b[0;34m]\u001b[0m\u001b[0;34m,\u001b[0m \u001b[0mdtype\u001b[0m\u001b[0;34m=\u001b[0m\u001b[0;34m'float'\u001b[0m\u001b[0;34m)\u001b[0m \u001b[0;31m#  nie wiem jak będzie zachowywać sie tutaj :\u001b[0m\u001b[0;34m\u001b[0m\u001b[0;34m\u001b[0m\u001b[0m\n\u001b[1;32m      2\u001b[0m \u001b[0mbeta\u001b[0m \u001b[0;34m=\u001b[0m \u001b[0mnp\u001b[0m\u001b[0;34m.\u001b[0m\u001b[0marray\u001b[0m\u001b[0;34m(\u001b[0m\u001b[0;34m[\u001b[0m\u001b[0;36m1\u001b[0m\u001b[0;34m,\u001b[0m \u001b[0;36m0\u001b[0m\u001b[0;34m,\u001b[0m \u001b[0;36m0\u001b[0m\u001b[0;34m,\u001b[0m\u001b[0;36m2\u001b[0m\u001b[0;34m,\u001b[0m\u001b[0;36m7\u001b[0m\u001b[0;34m]\u001b[0m\u001b[0;34m)\u001b[0m\u001b[0;34m\u001b[0m\u001b[0;34m\u001b[0m\u001b[0m\n\u001b[0;32m----> 3\u001b[0;31m \u001b[0msolve\u001b[0m\u001b[0;34m(\u001b[0m\u001b[0mA\u001b[0m\u001b[0;34m,\u001b[0m\u001b[0mbeta\u001b[0m\u001b[0;34m)\u001b[0m\u001b[0;34m\u001b[0m\u001b[0;34m\u001b[0m\u001b[0m\n\u001b[0m",
      "\u001b[0;32m<ipython-input-6-f52a6f34f2fd>\u001b[0m in \u001b[0;36msolve\u001b[0;34m(A, beta, scizor)\u001b[0m\n\u001b[1;32m     43\u001b[0m         \u001b[0mrozw\u001b[0m \u001b[0;34m=\u001b[0m \u001b[0mX\u001b[0m\u001b[0;34m[\u001b[0m\u001b[0;34m:\u001b[0m\u001b[0;34m,\u001b[0m\u001b[0;34m-\u001b[0m\u001b[0;36m1\u001b[0m\u001b[0;34m]\u001b[0m\u001b[0;34m\u001b[0m\u001b[0;34m\u001b[0m\u001b[0m\n\u001b[1;32m     44\u001b[0m         \u001b[0;32mif\u001b[0m \u001b[0msum\u001b[0m\u001b[0;34m(\u001b[0m\u001b[0mpom_A\u001b[0m\u001b[0;34m[\u001b[0m\u001b[0mdim\u001b[0m\u001b[0;34m:\u001b[0m\u001b[0;34m,\u001b[0m\u001b[0;34m:\u001b[0m\u001b[0;34m]\u001b[0m \u001b[0;34m@\u001b[0m \u001b[0mrozw\u001b[0m \u001b[0;34m==\u001b[0m \u001b[0mbeta2\u001b[0m\u001b[0;34m)\u001b[0m \u001b[0;34m!=\u001b[0m \u001b[0mlen\u001b[0m\u001b[0;34m(\u001b[0m\u001b[0mbeta2\u001b[0m\u001b[0;34m)\u001b[0m\u001b[0;34m:\u001b[0m\u001b[0;34m\u001b[0m\u001b[0;34m\u001b[0m\u001b[0m\n\u001b[0;32m---> 45\u001b[0;31m             \u001b[0;32mraise\u001b[0m \u001b[0mValueError\u001b[0m\u001b[0;34m(\u001b[0m\u001b[0;34m'Układ jest sprzeczny'\u001b[0m\u001b[0;34m)\u001b[0m\u001b[0;34m\u001b[0m\u001b[0;34m\u001b[0m\u001b[0m\n\u001b[0m\u001b[1;32m     46\u001b[0m \u001b[0;34m\u001b[0m\u001b[0m\n\u001b[1;32m     47\u001b[0m \u001b[0;34m\u001b[0m\u001b[0m\n",
      "\u001b[0;31mValueError\u001b[0m: Układ jest sprzeczny"
     ]
    }
   ],
   "source": [
    "A =  np.array([[60, 91], [60, 3], [45, 90],[32,12],[3,2]], dtype='float') #  nie wiem jak będzie zachowywać sie tutaj :\n",
    "beta = np.array([1, 0, 0,2,7])\n",
    "solve(A,beta)"
   ]
  },
  {
   "cell_type": "markdown",
   "metadata": {},
   "source": [
    "5x2 Matrix with existing solution"
   ]
  },
  {
   "cell_type": "code",
   "execution_count": 12,
   "metadata": {},
   "outputs": [
    {
     "data": {
      "text/plain": [
       "array([2., 3.])"
      ]
     },
     "execution_count": 12,
     "metadata": {},
     "output_type": "execute_result"
    }
   ],
   "source": [
    "A = np.array([[1,1],[2,1],[1,2],[1,-1]],dtype = 'float')\n",
    "beta = np.array([5, 7, 8,-1])\n",
    "solve(A,beta)[:,-1]"
   ]
  },
  {
   "cell_type": "markdown",
   "metadata": {},
   "source": [
    "Infinity number  of solutions"
   ]
  },
  {
   "cell_type": "code",
   "execution_count": 22,
   "metadata": {},
   "outputs": [
    {
     "data": {
      "text/plain": [
       "array([[ 1.,  0., -2., -3.],\n",
       "       [-0.,  1.,  1.,  4.]])"
      ]
     },
     "execution_count": 22,
     "metadata": {},
     "output_type": "execute_result"
    }
   ],
   "source": [
    "A = np.array([[1,3,1],[1,1,-1],[3,11,5]])\n",
    "beta = np.array([9,1,35])\n",
    "solve(A,beta)"
   ]
  },
  {
   "cell_type": "markdown",
   "metadata": {},
   "source": [
    "Positive-define Matrix "
   ]
  },
  {
   "cell_type": "code",
   "execution_count": 15,
   "metadata": {},
   "outputs": [
    {
     "data": {
      "text/plain": [
       "(array([-84.48214223,  82.6887583 , -94.87058607]), 0.0)"
      ]
     },
     "execution_count": 15,
     "metadata": {},
     "output_type": "execute_result"
    }
   ],
   "source": [
    "A = np.array([[2,-1,0],[-1,2,-1],[0,-1,2]])\n",
    "x = np.random.rand(3)*200 -100\n",
    "beta = (A @ x).reshape(1,-1)\n",
    "solution = solve(A,beta)\n",
    "err = sum((solution[:,-1] - x)**2)\n",
    "solution[:,-1],err"
   ]
  },
  {
   "cell_type": "markdown",
   "metadata": {
    "colab_type": "text",
    "id": "ZXJbMb88-OOg"
   },
   "source": [
    "**Problem 1.2 (5 pts)**\n",
    "\n",
    "Consider the following linear problem:\n",
    "```\n",
    "    maximize     2x+2y+z\n",
    "    \n",
    "                 | 1 1 1 |   | x |     | 5 |\n",
    "    subject to   | 1 1 0 | * | y |  <= | 4 |\n",
    "                 | 0 0 1 |   | z |     | 4 |\n",
    "                 \n",
    "                 x, y, z >= 0\n",
    "```\n",
    "* Plot the 3D polytope defined be the constraints. What is the number of vertices?\n",
    "* Solve the LP."
   ]
  },
  {
   "cell_type": "markdown",
   "metadata": {
    "colab": {},
    "colab_type": "code",
    "id": "_6viIaQX-OOi"
   },
   "source": [
    "subject to can be rewrite as \n",
    "$$x + y + z <= 5$$\n",
    "$$x + y       <= 4$$\n",
    "$$z <=4$$\n",
    "\n",
    "\n",
    "To solve the LP problem we need to check ale vertices of this figure and check which one is maximizing upon given function. \n",
    "\n",
    "All vetices comes as follow $\\{(0,0,0),(4,0,0),(0,4,0),(4,0,1),(0,4,1),(0,0,4),(1,0,4),(0,1,4)\\}$\n",
    "\n",
    "The one that maximize our goal function $f(x) = c^Tx $ is $(4,0,1)$ or $(0,1,4)$ both of them give us 9 as reachable maximum."
   ]
  },
  {
   "cell_type": "markdown",
   "metadata": {},
   "source": [
    " #### Please load it for the outcome !!!"
   ]
  },
  {
   "cell_type": "code",
   "execution_count": 24,
   "metadata": {},
   "outputs": [
    {
     "data": {
      "image/png": "[encoded data removed]",
      "text/plain": [
       "<Figure size 432x288 with 1 Axes>"
      ]
     },
     "metadata": {
      "needs_background": "light"
     },
     "output_type": "display_data"
    }
   ],
   "source": [
    "from mpl_toolkits.mplot3d import axes3d,art3d\n",
    "import  matplotlib.pyplot as plt\n",
    "import numpy as np \n",
    "\n",
    "%matplotlib inline\n",
    "\n",
    "figure = plt.figure()\n",
    "axis = figure.add_subplot(111, projection = '3d')\n",
    "\n",
    "x = [0,4,4,1,0,0,0,0,0,0,1,0,0,4,4,0]\n",
    "y = [0,0,0,0,0,1,4,4,0,0,0,1,4,0,0,4]\n",
    "z = np.array([[0,0,1,4,4,4,1,0,0,4,4,4,1,1,0,0],[0,0,1,4,4,4,1,0,0,4,4,4,1,1,0,0]])\n",
    "\n",
    "axis.plot_wireframe(x, y, z)\n",
    "\n",
    "axis.set_xlabel('x-axis')\n",
    "axis.set_ylabel('y-axis')\n",
    "axis.set_zlabel('z-axis')\n",
    "\n",
    "plt.show()\n"
   ]
  },
  {
   "cell_type": "markdown",
   "metadata": {
    "colab_type": "text",
    "id": "ngTy-DjK-OOn"
   },
   "source": [
    "**Problem 1.3 (10 pts)**\n",
    "\n",
    "Implement the simplex algorithm solving the problem\n",
    "```\n",
    "   minimize c^T x\n",
    "   subject to Ax = b and x >= 0\n",
    "```\n",
    "You can assume that the initial *feasible base* (see [BFS](https://www.wikiwand.com/en/Basic_feasible_solution)) $I$ is given.<br/>\n",
    "Your function should output the optimal value and the minimizer $x$."
   ]
  },
  {
   "cell_type": "code",
   "execution_count": 0,
   "metadata": {
    "colab": {},
    "colab_type": "code",
    "id": "53D5ff-W-OOp"
   },
   "outputs": [],
   "source": [
    "function simplex_method(I, c, A, b)\n",
    "    # write your implementation here\n",
    "    # ...\n",
    "    # return v, x\n",
    "end"
   ]
  },
  {
   "cell_type": "markdown",
   "metadata": {
    "colab_type": "text",
    "id": "xf5WUC1l-OOu"
   },
   "source": [
    "**Problem 1.4 (5 pts)**"
   ]
  },
  {
   "cell_type": "markdown",
   "metadata": {
    "colab_type": "text",
    "id": "nDcRwIfw-OOv"
   },
   "source": [
    "In the previous algorithm you may have probably observed a lot of inverse operations.\n",
    "\n",
    "This task is to implement *revised simplex algorithm* with incremental A inverse computation \n",
    "by using the **[Sherman-Morrison](https://www.wikiwand.com/en/Sherman%E2%80%93Morrison_formula)** formula for keeping track of the inverse matrix.\n",
    "\n",
    "Your program will be graded based on how fast it is.\n",
    "You should expect to see a factor 10-20 speedup depending on the problem instance."
   ]
  },
  {
   "cell_type": "code",
   "execution_count": 0,
   "metadata": {
    "colab": {},
    "colab_type": "code",
    "id": "FGn2Jzye-OOy"
   },
   "outputs": [],
   "source": [
    "function revised_simplex_method(I, c, A, b)\n",
    "    # write your implementation here\n",
    "    # ...\n",
    "    return # v, x\n",
    "end"
   ]
  },
  {
   "cell_type": "markdown",
   "metadata": {
    "colab_type": "text",
    "id": "Au5I4OCi-OO3"
   },
   "source": [
    "---"
   ]
  },
  {
   "cell_type": "markdown",
   "metadata": {
    "colab_type": "text",
    "id": "FRDtO810-OO5"
   },
   "source": [
    "*Hint* You can test your code by using the `test-data.jld` archive containing the simple dictionary of data ( to jest tylko julia i trzeba znaleźć coś nowego żeby pytong to przeczytał)\n",
    "```julia\n",
    "using JLD, LinearAlgebra\n",
    "dataset = JLD.load(\"test_data.jld\")[\"data\"]\n",
    "\n",
    "method = simplex_method\n",
    "\n",
    "for test_id=1:30\n",
    "    data = dataset[test_id]\n",
    "    I,A,b,c,f,x = data[\"I\"], data[\"A\"], data[\"b\"], data[\"c\"], data[\"f\"], data[\"x\"]\n",
    "    v1,x1 = method(I, c, A, b)\n",
    "    if LinearAlgebra.norm(x1-x) < 1e-10\n",
    "        # :-)\n",
    "    else\n",
    "        # :-(\n",
    "    end\n",
    "end\n",
    "```"
   ]
  },
  {
   "cell_type": "markdown",
   "metadata": {
    "colab_type": "text",
    "id": "veAiRdxn-OO7"
   },
   "source": [
    "Repeat the test with `method = revised_simplex_method` and compare the time elapsed for both method."
   ]
  }
 ],
 "metadata": {
  "colab": {
   "collapsed_sections": [],
   "name": "Lista1-NO.ipynb",
   "provenance": []
  },
  "kernelspec": {
   "display_name": "Python 3",
   "language": "python",
   "name": "python3"
  },
  "language_info": {
   "codemirror_mode": {
    "name": "ipython",
    "version": 3
   },
   "file_extension": ".py",
   "mimetype": "text/x-python",
   "name": "python",
   "nbconvert_exporter": "python",
   "pygments_lexer": "ipython3",
   "version": "3.7.3"
  }
 },
 "nbformat": 4,
 "nbformat_minor": 1
}
