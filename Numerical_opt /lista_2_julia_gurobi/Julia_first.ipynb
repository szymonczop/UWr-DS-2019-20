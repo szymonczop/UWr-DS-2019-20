{
 "cells": [
  {
   "cell_type": "code",
   "execution_count": 2,
   "metadata": {},
   "outputs": [],
   "source": [
    "using JuMP"
   ]
  },
  {
   "cell_type": "code",
   "execution_count": 29,
   "metadata": {},
   "outputs": [
    {
     "name": "stderr",
     "output_type": "stream",
     "text": [
      "┌ Info: Precompiling Cbc [9961bab8-2fa3-5c5a-9d89-47fab24efd76]\n",
      "└ @ Base loading.jl:1242\n"
     ]
    }
   ],
   "source": [
    "using Cbc"
   ]
  },
  {
   "cell_type": "code",
   "execution_count": 28,
   "metadata": {},
   "outputs": [
    {
     "ename": "UndefVarError",
     "evalue": "UndefVarError: CbcSolver not defined",
     "output_type": "error",
     "traceback": [
      "UndefVarError: CbcSolver not defined",
      "",
      "Stacktrace:",
      " [1] top-level scope at In[28]:1"
     ]
    }
   ],
   "source": [
    "m = Model(solver = CbcSolver())"
   ]
  },
  {
   "cell_type": "code",
   "execution_count": 22,
   "metadata": {},
   "outputs": [
    {
     "name": "stdout",
     "output_type": "stream",
     "text": [
      "Max 5 x + 3 y\n",
      "Subject to\n",
      " x + 5 y ≤ 3.0\n",
      " x ≥ 0.0\n",
      " y ≥ 0.0\n"
     ]
    }
   ],
   "source": [
    "@variable(m, 0 <= x )\n",
    "@variable(m, 0 <= y )\n",
    "@objective(m, Max, 5x + 3*y )\n",
    "@constraint(m, 1x + 5y <= 3.0 )\n",
    "print(m)"
   ]
  },
  {
   "cell_type": "code",
   "execution_count": 27,
   "metadata": {},
   "outputs": [
    {
     "ename": "ErrorException",
     "evalue": "`solve` has been replaced by `optimize!`. Note that `solve` used to return a `Symbol` summarizing the solution while `optimize!` returns nothing and the status of the solution is queried using `termination_status`, `primal_status` and `dual_status`.",
     "output_type": "error",
     "traceback": [
      "`solve` has been replaced by `optimize!`. Note that `solve` used to return a `Symbol` summarizing the solution while `optimize!` returns nothing and the status of the solution is queried using `termination_status`, `primal_status` and `dual_status`.",
      "",
      "Stacktrace:",
      " [1] error(::String) at ./error.jl:33",
      " [2] solve(::Model) at /Users/czoppson/.julia/packages/JuMP/MsUSY/src/optimizer_interface.jl:63",
      " [3] top-level scope at In[27]:1"
     ]
    }
   ],
   "source": [
    "status = op(m)"
   ]
  },
  {
   "cell_type": "code",
   "execution_count": 30,
   "metadata": {
    "scrolled": false
   },
   "outputs": [
    {
     "name": "stderr",
     "output_type": "stream",
     "text": [
      "┌ Warning: `getobjectivevalue` is deprecated, use `JuMP.objective_value` instead.\n",
      "│   caller = top-level scope at In[30]:1\n",
      "└ @ Core In[30]:1\n"
     ]
    },
    {
     "ename": "NoOptimizer",
     "evalue": "NoOptimizer()",
     "output_type": "error",
     "traceback": [
      "NoOptimizer()",
      "",
      "Stacktrace:",
      " [1] _moi_get_result(::MathOptInterface.Utilities.CachingOptimizer{MathOptInterface.AbstractOptimizer,MathOptInterface.Utilities.UniversalFallback{MathOptInterface.Utilities.Model{Float64}}}, ::MathOptInterface.ObjectiveValue) at /Users/czoppson/.julia/packages/JuMP/MsUSY/src/JuMP.jl:629",
      " [2] get(::Model, ::MathOptInterface.ObjectiveValue) at /Users/czoppson/.julia/packages/JuMP/MsUSY/src/JuMP.jl:646",
      " [3] objective_value(::Model) at /Users/czoppson/.julia/packages/JuMP/MsUSY/src/objective.jl:25",
      " [4] getobjectivevalue(::Model) at ./deprecated.jl:43",
      " [5] top-level scope at In[30]:1"
     ]
    }
   ],
   "source": [
    "println(\"Objective value: \", getobjectivevalue(m))"
   ]
  },
  {
   "cell_type": "code",
   "execution_count": 32,
   "metadata": {},
   "outputs": [],
   "source": [
    "using GLPKMathProgInterface"
   ]
  },
  {
   "cell_type": "code",
   "execution_count": 35,
   "metadata": {},
   "outputs": [
    {
     "data": {
      "text/latex": [
       "$$ \\begin{alignat*}{1}\\text{feasibility}\\\\\n",
       "\\text{Subject to} \\quad\\end{alignat*}\n",
       " $$"
      ],
      "text/plain": [
       "A JuMP Model\n",
       "Feasibility problem with:\n",
       "Variables: 0\n",
       "Model mode: AUTOMATIC\n",
       "CachingOptimizer state: EMPTY_OPTIMIZER\n",
       "Solver name: COIN Branch-and-Cut (Cbc)"
      ]
     },
     "execution_count": 35,
     "metadata": {},
     "output_type": "execute_result"
    }
   ],
   "source": [
    "myModel =Model(with_optimizer(Cbc.Optimizer, logLevel=1))"
   ]
  },
  {
   "cell_type": "code",
   "execution_count": 68,
   "metadata": {},
   "outputs": [
    {
     "name": "stdout",
     "output_type": "stream",
     "text": [
      "Max 5 x + 3 y\n",
      "Subject to\n",
      " x + 5 y ≤ 3.0\n",
      " x ≥ 0.0\n",
      " y ≥ 0.0\n",
      "Objective value: 15.0\n",
      "x = 3.0\n",
      "y = 0.0\n",
      "Welcome to the CBC MILP Solver \n",
      "Version: 2.10.3 \n",
      "Build Date: Oct  7 2019 \n",
      "\n",
      "command line - Cbc_C_Interface -logLevel 1 -solve -quit (default strategy 1)\n",
      "Presolve 0 (-1) rows, 0 (-2) columns and 0 (-2) elements\n",
      "Empty problem - 0 rows, 0 columns and 0 elements\n",
      "Optimal - objective value 15\n",
      "After Postsolve, objective 15, infeasibilities - dual 0 (0), primal 0 (0)\n",
      "Optimal objective 15 - 0 iterations time 0.002, Presolve 0.00\n",
      "Total time (CPU seconds):       0.00   (Wallclock seconds):       0.00\n",
      "\n"
     ]
    },
    {
     "name": "stderr",
     "output_type": "stream",
     "text": [
      "┌ Warning: `getobjectivevalue` is deprecated, use `JuMP.objective_value` instead.\n",
      "│   caller = top-level scope at In[68]:12\n",
      "└ @ Core In[68]:12\n",
      "┌ Warning: `getvalue` is deprecated, use `JuMP.value` instead.\n",
      "│   caller = top-level scope at In[68]:14\n",
      "└ @ Core In[68]:14\n",
      "┌ Warning: `getvalue` is deprecated, use `JuMP.value` instead.\n",
      "│   caller = top-level scope at In[68]:15\n",
      "└ @ Core In[68]:15\n"
     ]
    }
   ],
   "source": [
    "\n",
    "m = Model(with_optimizer(Cbc.Optimizer, logLevel=1))\n",
    "@variable(m, 0 <= x  )\n",
    "@variable(m, 0 <= y  )\n",
    "\n",
    "@objective(m, Max, 5x + 3*y )\n",
    "@constraint(m, 1x + 5y <= 3.0 )\n",
    "\n",
    "print(m)\n",
    "\n",
    "status = optimize!(m)\n",
    "\n",
    "println(\"Objective value: \", getobjectivevalue(m))\n",
    "println(\"x = \", getvalue(x))\n",
    "println(\"y = \", getvalue(y))"
   ]
  },
  {
   "cell_type": "code",
   "execution_count": 56,
   "metadata": {},
   "outputs": [],
   "source": [
    "using GLPKMathProgInterface\n",
    "using JuMP"
   ]
  },
  {
   "cell_type": "code",
   "execution_count": 72,
   "metadata": {},
   "outputs": [
    {
     "name": "stdout",
     "output_type": "stream",
     "text": [
      "The optimization problem to be solved is:\n",
      "Min x + y\n",
      "Subject to\n",
      " x + 2 y ≤ 1.0\n",
      " x ≥ 0.0\n",
      " y ≥ 0.0\n"
     ]
    }
   ],
   "source": [
    "myModel = Model(with_optimizer(Cbc.Optimizer, logLevel=1))\n",
    "@variable(myModel, x >= 0)\n",
    "@variable(myModel, y >= 0)\n",
    "@objective(myModel, Min, x + y)\n",
    "@constraint(myModel, x + 2y <= 1)\n",
    "println(\"The optimization problem to be solved is:\")\n",
    "print(myModel)"
   ]
  },
  {
   "cell_type": "code",
   "execution_count": 73,
   "metadata": {},
   "outputs": [
    {
     "name": "stdout",
     "output_type": "stream",
     "text": [
      "Objective value: 0.0\n",
      "x = 0.0\n",
      "y = 0.0\n",
      "Welcome to the CBC MILP Solver \n",
      "Version: 2.10.3 \n",
      "Build Date: Oct  7 2019 \n",
      "\n",
      "command line - Cbc_C_Interface -logLevel 1 -solve -quit (default strategy 1)\n",
      "Presolve 0 (-1) rows, 0 (-2) columns and 0 (-2) elements\n",
      "Empty problem - 0 rows, 0 columns and 0 elements\n",
      "Optimal - objective value 0\n",
      "After Postsolve, objective 0, infeasibilities - dual 0 (0), primal 0 (0)\n",
      "Optimal objective 0 - 0 iterations time 0.002, Presolve 0.00\n",
      "Total time (CPU seconds):       0.00   (Wallclock seconds):       0.00\n",
      "\n"
     ]
    },
    {
     "name": "stderr",
     "output_type": "stream",
     "text": [
      "┌ Warning: `getobjectivevalue` is deprecated, use `JuMP.objective_value` instead.\n",
      "│   caller = top-level scope at In[73]:2\n",
      "└ @ Core In[73]:2\n",
      "┌ Warning: `getvalue` is deprecated, use `JuMP.value` instead.\n",
      "│   caller = top-level scope at In[73]:4\n",
      "└ @ Core In[73]:4\n",
      "┌ Warning: `getvalue` is deprecated, use `JuMP.value` instead.\n",
      "│   caller = top-level scope at In[73]:5\n",
      "└ @ Core In[73]:5\n"
     ]
    }
   ],
   "source": [
    "status = optimize!(myModel) # solves the model  \n",
    "\n",
    "println(\"Objective value: \", getobjectivevalue(myModel)) # getObjectiveValue(model_name) gives the optimum objective value\n",
    "println(\"x = \", getvalue(x)) # getValue(decision_variable) will give the optimum value of the associated decision variable\n",
    "println(\"y = \", getvalue(y))"
   ]
  },
  {
   "cell_type": "code",
   "execution_count": 76,
   "metadata": {},
   "outputs": [
    {
     "name": "stdout",
     "output_type": "stream",
     "text": [
      "Min x + y\n",
      "Subject to\n",
      " x + 2 y = 7.0\n",
      " x ≥ 1.0\n",
      " y ≥ 2.0\n"
     ]
    }
   ],
   "source": [
    "modelA = Model(with_optimizer(Cbc.Optimizer, logLevel = 1))\n",
    "@variable(modelA, x >= 1)\n",
    "@variable(modelA, y >= 2)\n",
    "@objective(modelA, Min, x+y)\n",
    "@constraint(modelA, x + 2y == 7)\n",
    "print(modelA)\n",
    "#optimize!(modelA)"
   ]
  },
  {
   "cell_type": "code",
   "execution_count": 83,
   "metadata": {},
   "outputs": [
    {
     "name": "stdout",
     "output_type": "stream",
     "text": [
      "Objective value: 4.0\n",
      "x = 1.0\n",
      "y = 3.0\n",
      "Welcome to the CBC MILP Solver \n",
      "Version: 2.10.3 \n",
      "Build Date: Oct  7 2019 \n",
      "\n",
      "command line - Cbc_C_Interface -logLevel 1 -solve -quit (default strategy 1)\n",
      "Presolve 0 (-1) rows, 0 (-2) columns and 0 (-2) elements\n",
      "Empty problem - 0 rows, 0 columns and 0 elements\n",
      "Primal infeasible - objective value 4\n",
      "Presolved problem not optimal, resolve after postsolve\n",
      "After Postsolve, objective 4, infeasibilities - dual 0 (0), primal 0 (0)\n",
      "Primal infeasible - objective value 4\n",
      "PrimalInfeasible objective 4 - 0 iterations time 0.002, Presolve 0.00\n",
      "\n",
      "Result - Linear relaxation infeasible\n",
      "\n",
      "Enumerated nodes:           0\n",
      "Total iterations:           0\n",
      "Time (CPU seconds):         0.00\n",
      "Time (Wallclock Seconds):   0.00\n",
      "\n",
      "Total time (CPU seconds):       0.00   (Wallclock seconds):       0.00\n",
      "\n"
     ]
    }
   ],
   "source": [
    "optimize!(modelA)\n",
    "println(\"Objective value: \", objective_value(modelA)) # getObjectiveValue(model_name) gives the optimum objective value\n",
    "println(\"x = \", value(x)) # getValue(decision_variable) will give the optimum value of the associated decision variable\n",
    "println(\"y = \", value(y))"
   ]
  }
 ],
 "metadata": {
  "kernelspec": {
   "display_name": "Julia 1.2.0",
   "language": "julia",
   "name": "julia-1.2"
  },
  "language_info": {
   "file_extension": ".jl",
   "mimetype": "application/julia",
   "name": "julia",
   "version": "1.2.0"
  }
 },
 "nbformat": 4,
 "nbformat_minor": 2
}
