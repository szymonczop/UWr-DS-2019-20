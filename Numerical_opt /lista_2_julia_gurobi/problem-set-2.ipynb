{
 "cells": [
  {
   "cell_type": "markdown",
   "metadata": {},
   "source": [
    "## Problem 1"
   ]
  },
  {
   "cell_type": "code",
   "execution_count": 1,
   "metadata": {},
   "outputs": [],
   "source": [
    "using Cbc\n",
    "using Gurobi\n",
    "using JuMP\n",
    "using Test"
   ]
  },
  {
   "cell_type": "code",
   "execution_count": 3,
   "metadata": {},
   "outputs": [
    {
     "name": "stdout",
     "output_type": "stream",
     "text": [
      "Min x + y\n",
      "Subject to\n",
      " x ≥ 1.0\n",
      " y ≥ 2.0\n",
      " x + 2 y = 7.0\n",
      "\n",
      "Solving...\n",
      "Testing termination status...\n",
      "\n",
      "Objective value: 4.0\n",
      "x = 1.0\n",
      "y = 3.0\n"
     ]
    }
   ],
   "source": [
    "model_a = Model(with_optimizer(Cbc.Optimizer, logLevel=0))\n",
    "@variable(model_a, 1 <= x)\n",
    "@variable(model_a, 2 <= y)\n",
    "@objective(model_a, Min, x + y)\n",
    "@constraint(model_a, con, x + 2 * y == 7)\n",
    "\n",
    "print(model_a)\n",
    "println()\n",
    "println(\"Solving...\")\n",
    "optimize!(model_a)\n",
    "println(\"Testing termination status...\")\n",
    "@test JuMP.termination_status(model_a) == MOI.OPTIMAL\n",
    "obj_value = objective_value(model_a)\n",
    "x_value = value(x)\n",
    "y_value = value(y)\n",
    "\n",
    "println()\n",
    "println(\"Objective value: \", obj_value)\n",
    "println(\"x = \", x_value)\n",
    "println(\"y = \", y_value)"
   ]
  },
  {
   "cell_type": "code",
   "execution_count": 4,
   "metadata": {},
   "outputs": [
    {
     "name": "stdout",
     "output_type": "stream",
     "text": [
      "Min x + 2 y + 3 z\n",
      "Subject to\n",
      " x ≥ 0.0\n",
      " y ≥ 0.0\n",
      " z ≥ 0.0\n",
      " x - y ≤ 2.0\n",
      " x + y ∈ [2.0, 3.0]\n",
      " x + z ∈ [4.0, 5.0]\n",
      "\n",
      "Solving...\n",
      "Testing termination status...\n",
      "\n",
      "Objective value: 8.0\n",
      "x = 2.5\n",
      "y = 0.5\n",
      "z = 1.5\n"
     ]
    }
   ],
   "source": [
    "model_b = Model(with_optimizer(Cbc.Optimizer, logLevel=0))\n",
    "@variable(model_b, 0 <= x)\n",
    "@variable(model_b, 0 <= y)\n",
    "@variable(model_b, 0 <= z)\n",
    "@objective(model_b, Min, x + 2 * y + 3 * z)\n",
    "@constraint(model_b, con1, 2 <= x + y <= 3)\n",
    "@constraint(model_b, con2, 4 <= x + z <= 5)\n",
    "@constraint(model_b, con3, x - y <= 2)\n",
    "\n",
    "print(model_b)\n",
    "println()\n",
    "println(\"Solving...\")\n",
    "optimize!(model_b)\n",
    "println(\"Testing termination status...\")\n",
    "@test JuMP.termination_status(model_b) == MOI.OPTIMAL\n",
    "obj_value = objective_value(model_b)\n",
    "x_value = value(x)\n",
    "y_value = value(y)\n",
    "z_value = value(z)\n",
    "\n",
    "println()\n",
    "println(\"Objective value: \", obj_value)\n",
    "println(\"x = \", x_value)\n",
    "println(\"y = \", y_value)\n",
    "println(\"z = \", z_value)"
   ]
  },
  {
   "cell_type": "code",
   "execution_count": 5,
   "metadata": {},
   "outputs": [
    {
     "name": "stdout",
     "output_type": "stream",
     "text": [
      "Max 2 x + y\n",
      "Subject to\n",
      " x - y ≤ 4.0\n",
      " x + y ∈ [1.0, 5.0]\n",
      "\n",
      "Solving...\n",
      "Testing termination status...\n",
      "\n",
      "Objective value: 9.5\n",
      "x = 4.5\n",
      "y = 0.5\n"
     ]
    }
   ],
   "source": [
    "model_c = Model(with_optimizer(Cbc.Optimizer, logLevel=0))\n",
    "@variable(model_c, x)\n",
    "@variable(model_c, y)\n",
    "@variable(model_c, z)\n",
    "@objective(model_c, Max, 2 * x + y)\n",
    "@constraint(model_c, con1, 1 <= x + y <= 5)\n",
    "@constraint(model_c, con2, x - y <= 4)\n",
    "\n",
    "print(model_c)\n",
    "println()\n",
    "println(\"Solving...\")\n",
    "optimize!(model_c)\n",
    "println(\"Testing termination status...\")\n",
    "@test JuMP.termination_status(model_c) == MOI.OPTIMAL\n",
    "obj_value = objective_value(model_c)\n",
    "x_value = value(x)\n",
    "y_value = value(y)\n",
    "\n",
    "println()\n",
    "println(\"Objective value: \", obj_value)\n",
    "println(\"x = \", x_value)\n",
    "println(\"y = \", y_value)"
   ]
  },
  {
   "cell_type": "markdown",
   "metadata": {},
   "source": [
    "## Problem 2"
   ]
  },
  {
   "cell_type": "code",
   "execution_count": 2,
   "metadata": {},
   "outputs": [
    {
     "name": "stdout",
     "output_type": "stream",
     "text": [
      "Academic license - for non-commercial use only\n",
      "Min x + y\n",
      "Subject to\n",
      " x + 2 y = 7.0\n",
      " x ≥ 1.0\n",
      " y ≥ 2.0\n",
      "\n",
      "Solving...\n",
      "Academic license - for non-commercial use only\n",
      "Optimize a model with 1 rows, 2 columns and 2 nonzeros\n",
      "Coefficient statistics:\n",
      "  Matrix range     [1e+00, 2e+00]\n",
      "  Objective range  [1e+00, 1e+00]\n",
      "  Bounds range     [1e+00, 2e+00]\n",
      "  RHS range        [7e+00, 7e+00]\n",
      "Presolve removed 1 rows and 2 columns\n",
      "Presolve time: 0.00s\n",
      "Presolve: All rows and columns removed\n",
      "Iteration    Objective       Primal Inf.    Dual Inf.      Time\n",
      "       0    4.0000000e+00   0.000000e+00   0.000000e+00      0s\n",
      "\n",
      "Solved in 0 iterations and 0.00 seconds\n",
      "Optimal objective  4.000000000e+00\n",
      "Testing termination status...\n",
      "\n",
      "Objective value: 4.0\n",
      "x = 1.0\n",
      "y = 3.0\n"
     ]
    }
   ],
   "source": [
    "model_a = Model(with_optimizer(Gurobi.Optimizer))\n",
    "@variable(model_a, 1 <= x)\n",
    "@variable(model_a, 2 <= y)\n",
    "@objective(model_a, Min, x + y)\n",
    "@constraint(model_a, con, x + 2 * y == 7)\n",
    "\n",
    "print(model_a)\n",
    "println()\n",
    "println(\"Solving...\")\n",
    "optimize!(model_a)\n",
    "println(\"Testing termination status...\")\n",
    "@test JuMP.termination_status(model_a) == MOI.OPTIMAL\n",
    "obj_value = objective_value(model_a)\n",
    "x_value = value(x)\n",
    "y_value = value(y)\n",
    "\n",
    "println()\n",
    "println(\"Objective value: \", obj_value)\n",
    "println(\"x = \", x_value)\n",
    "println(\"y = \", y_value)"
   ]
  },
  {
   "cell_type": "code",
   "execution_count": 4,
   "metadata": {},
   "outputs": [
    {
     "name": "stdout",
     "output_type": "stream",
     "text": [
      "Academic license - for non-commercial use only\n",
      "Min x + 2 y + 3 z\n",
      "Subject to\n",
      " x - y ≤ 2.0\n",
      " x + y ∈ [2.0, 3.0]\n",
      " x + z ∈ [4.0, 5.0]\n",
      " x ≥ 0.0\n",
      " y ≥ 0.0\n",
      " z ≥ 0.0\n",
      "\n",
      "Solving...\n",
      "Academic license - for non-commercial use only\n",
      "Optimize a model with 3 rows, 5 columns and 8 nonzeros\n",
      "Coefficient statistics:\n",
      "  Matrix range     [1e+00, 1e+00]\n",
      "  Objective range  [1e+00, 3e+00]\n",
      "  Bounds range     [2e+00, 5e+00]\n",
      "  RHS range        [2e+00, 2e+00]\n",
      "Presolve removed 1 rows and 2 columns\n",
      "Presolve time: 0.00s\n",
      "Presolved: 2 rows, 3 columns, 5 nonzeros\n",
      "\n",
      "Iteration    Objective       Primal Inf.    Dual Inf.      Time\n",
      "       0    8.0000000e+00   6.000000e+00   0.000000e+00      0s\n",
      "       1    8.0000000e+00   0.000000e+00   0.000000e+00      0s\n",
      "\n",
      "Solved in 1 iterations and 0.00 seconds\n",
      "Optimal objective  8.000000000e+00\n",
      "Testing termination status...\n",
      "\n",
      "Objective value: 8.0\n",
      "x = 2.0\n",
      "y = 0.0\n",
      "z = 2.0\n"
     ]
    }
   ],
   "source": [
    "model_b = Model(with_optimizer(Gurobi.Optimizer))\n",
    "@variable(model_b, 0 <= x)\n",
    "@variable(model_b, 0 <= y)\n",
    "@variable(model_b, 0 <= z)\n",
    "@objective(model_b, Min, x + 2 * y + 3 * z)\n",
    "@constraint(model_b, con1, 2 <= x + y <= 3)\n",
    "@constraint(model_b, con2, 4 <= x + z <= 5)\n",
    "@constraint(model_b, con3, x - y <= 2)\n",
    "\n",
    "print(model_b)\n",
    "println()\n",
    "println(\"Solving...\")\n",
    "optimize!(model_b)\n",
    "println(\"Testing termination status...\")\n",
    "@test JuMP.termination_status(model_b) == MOI.OPTIMAL\n",
    "obj_value = objective_value(model_b)\n",
    "x_value = value(x)\n",
    "y_value = value(y)\n",
    "z_value = value(z)\n",
    "\n",
    "println()\n",
    "println(\"Objective value: \", obj_value)\n",
    "println(\"x = \", x_value)\n",
    "println(\"y = \", y_value)\n",
    "println(\"z = \", z_value)"
   ]
  },
  {
   "cell_type": "code",
   "execution_count": 5,
   "metadata": {},
   "outputs": [
    {
     "name": "stdout",
     "output_type": "stream",
     "text": [
      "Academic license - for non-commercial use only\n",
      "Max 2 x + y\n",
      "Subject to\n",
      " x - y ≤ 4.0\n",
      " x + y ∈ [1.0, 5.0]\n",
      "\n",
      "Solving...\n",
      "Academic license - for non-commercial use only\n",
      "Optimize a model with 2 rows, 4 columns and 5 nonzeros\n",
      "Coefficient statistics:\n",
      "  Matrix range     [1e+00, 1e+00]\n",
      "  Objective range  [1e+00, 2e+00]\n",
      "  Bounds range     [1e+00, 5e+00]\n",
      "  RHS range        [4e+00, 4e+00]\n",
      "Presolve removed 2 rows and 4 columns\n",
      "Presolve time: 0.00s\n",
      "Presolve: All rows and columns removed\n",
      "Iteration    Objective       Primal Inf.    Dual Inf.      Time\n",
      "       0    9.5000000e+00   0.000000e+00   2.000000e-06      0s\n",
      "\n",
      "Solved in 0 iterations and 0.00 seconds\n",
      "Optimal objective  9.500000000e+00\n",
      "Testing termination status...\n",
      "\n",
      "Objective value: 9.5\n",
      "x = 4.5\n",
      "y = 0.5\n"
     ]
    }
   ],
   "source": [
    "model_c = Model(with_optimizer(Gurobi.Optimizer))\n",
    "@variable(model_c, x)\n",
    "@variable(model_c, y)\n",
    "@variable(model_c, z)\n",
    "@objective(model_c, Max, 2 * x + y)\n",
    "@constraint(model_c, con1, 1 <= x + y <= 5)\n",
    "@constraint(model_c, con2, x - y <= 4)\n",
    "\n",
    "print(model_c)\n",
    "println()\n",
    "println(\"Solving...\")\n",
    "optimize!(model_c)\n",
    "println(\"Testing termination status...\")\n",
    "@test JuMP.termination_status(model_c) == MOI.OPTIMAL\n",
    "obj_value = objective_value(model_c)\n",
    "x_value = value(x)\n",
    "y_value = value(y)\n",
    "\n",
    "println()\n",
    "println(\"Objective value: \", obj_value)\n",
    "println(\"x = \", x_value)\n",
    "println(\"y = \", y_value)"
   ]
  },
  {
   "cell_type": "markdown",
   "metadata": {},
   "source": [
    "## Problem 3"
   ]
  },
  {
   "cell_type": "code",
   "execution_count": 9,
   "metadata": {},
   "outputs": [],
   "source": [
    "vincze = [9, 7, 2, 1, 10, 9, 8, 9, 2, 6];\n",
    "veit = [8, 8, 3, 4, 7, 9, 7, 7, 4, 4];\n",
    "anderson = [2, 1, 10, 10, 1, 4, 7, 6, 6, 7];\n",
    "herbert = [4, 4, 10, 9, 9, 9, 1, 2, 3, 4];\n",
    "schatz = [10, 10, 9, 9, 8, 9, 1, 1, 1, 1];\n",
    "plane = [1, 3, 5, 7, 9, 7, 10, 10, 9, 2];\n",
    "certo = [9, 9, 8, 8, 9, 1, 1, 2, 2, 9];\n",
    "moses = [3, 2, 7, 6, 4, 3, 9, 7, 7, 9];\n",
    "brandon = [5, 4, 5, 9, 10, 10, 5, 4, 9, 8];\n",
    "drtina = [10, 10, 9, 7, 6, 7, 5, 4, 8, 8];\n",
    "cost = [vincze veit anderson herbert schatz plane certo moses brandon drtina];\n",
    "names = [\"Vincze\" \"Veit\" \"Anderson\" \"Herbert\" \"Schatz\" \"Plane\" \"Certo\" \"Moses\" \"Brandon\" \"Drtina\"];"
   ]
  },
  {
   "cell_type": "code",
   "execution_count": 10,
   "metadata": {},
   "outputs": [
    {
     "name": "stdout",
     "output_type": "stream",
     "text": [
      "Academic license - for non-commercial use only\n",
      "Solving...\n",
      "Academic license - for non-commercial use only\n",
      "Optimize a model with 20 rows, 100 columns and 200 nonzeros\n",
      "Variable types: 0 continuous, 100 integer (0 binary)\n",
      "Coefficient statistics:\n",
      "  Matrix range     [1e+00, 1e+00]\n",
      "  Objective range  [5e+01, 7e+01]\n",
      "  Bounds range     [1e+00, 1e+00]\n",
      "  RHS range        [1e+00, 1e+00]\n",
      "Found heuristic solution: objective 613.0000000\n",
      "Presolve time: 0.00s\n",
      "Presolved: 20 rows, 100 columns, 200 nonzeros\n",
      "Variable types: 0 continuous, 100 integer (100 binary)\n",
      "\n",
      "Root relaxation: cutoff, 9 iterations, 0.00 seconds\n",
      "\n",
      "    Nodes    |    Current Node    |     Objective Bounds      |     Work\n",
      " Expl Unexpl |  Obj  Depth IntInf | Incumbent    BestBd   Gap | It/Node Time\n",
      "\n",
      "     0     0     cutoff    0       613.00000  613.00000  0.00%     -    0s\n",
      "\n",
      "Explored 0 nodes (9 simplex iterations) in 0.00 seconds\n",
      "Thread count was 4 (of 4 available processors)\n",
      "\n",
      "Solution count 1: 613 \n",
      "\n",
      "Optimal solution found (tolerance 1.00e-04)\n",
      "Best objective 6.130000000000e+02, best bound 6.130000000000e+02, gap 0.0000%\n",
      "Testing termination status...\n",
      "\n",
      "Objective value: 613.0\n",
      "Mission #1: Schatz\n",
      "Mission #2: Anderson\n",
      "Mission #3: Veit\n",
      "Mission #4: Moses\n",
      "Mission #5: Brandon\n",
      "Mission #6: Plane\n",
      "Mission #7: Certo\n",
      "Mission #8: Herbert\n",
      "Mission #9: Drtina\n",
      "Mission #10: Vincze\n"
     ]
    }
   ],
   "source": [
    "model_nasa = Model(with_optimizer(Gurobi.Optimizer))\n",
    "@variable(model_nasa, 0 <= tab[1:10, 1:10] <= 1, Int)\n",
    "@objective(model_nasa, Max, sum(tab*cost))\n",
    "@constraint(model_nasa, constr1, sum(tab, dims=1) .== [1 1 1 1 1 1 1 1 1 1])\n",
    "@constraint(model_nasa, constr2, transpose(sum(tab, dims=2)) .== [1 1 1 1 1 1 1 1 1 1])\n",
    "\n",
    "println(\"Solving...\")\n",
    "optimize!(model_nasa)\n",
    "println(\"Testing termination status...\")\n",
    "@test JuMP.termination_status(model_nasa) == MOI.OPTIMAL\n",
    "obj_value = objective_value(model_nasa)\n",
    "\n",
    "println()\n",
    "println(\"Objective value: \", obj_value)\n",
    "for i in range(1, stop=10)\n",
    "    for j in range(1, stop=10)\n",
    "        if value(tab[i, j]) == 1\n",
    "            println(\"Mission #\", i, \": \", names[j])\n",
    "        end\n",
    "    end\n",
    "end"
   ]
  },
  {
   "cell_type": "code",
   "execution_count": null,
   "metadata": {},
   "outputs": [],
   "source": []
  }
 ],
 "metadata": {
  "kernelspec": {
   "display_name": "Julia 1.2.0",
   "language": "julia",
   "name": "julia-1.2"
  },
  "language_info": {
   "file_extension": ".jl",
   "mimetype": "application/julia",
   "name": "julia",
   "version": "1.2.0"
  }
 },
 "nbformat": 4,
 "nbformat_minor": 2
}
