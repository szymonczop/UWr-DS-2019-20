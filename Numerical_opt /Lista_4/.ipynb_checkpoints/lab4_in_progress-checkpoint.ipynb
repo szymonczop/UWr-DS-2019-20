{
 "cells": [
  {
   "cell_type": "code",
   "execution_count": 47,
   "metadata": {},
   "outputs": [],
   "source": [
    "import numpy as np\n",
    "import sympy as sp\n",
    "import matplotlib.pyplot as plt\n",
    "from sympy.tensor.array import derive_by_array\n",
    "from scipy.optimize import minimize\n",
    "sp.init_printing()\n",
    "%matplotlib inline"
   ]
  },
  {
   "cell_type": "code",
   "execution_count": 24,
   "metadata": {},
   "outputs": [
    {
     "data": {
      "image/png": "[encoded data removed]",
      "text/latex": [
       "$\\displaystyle \\left( x_{0}, \\  x_{1}, \\  x_{2}, \\  x_{3}, \\  x_{4}\\right)$"
      ],
      "text/plain": [
       "(x₀, x₁, x₂, x₃, x₄)"
      ]
     },
     "execution_count": 24,
     "metadata": {},
     "output_type": "execute_result"
    }
   ],
   "source": [
    "n=5\n",
    "x=sp.symbols('x:{}'.format(n))\n",
    "x"
   ]
  },
  {
   "cell_type": "code",
   "execution_count": 106,
   "metadata": {},
   "outputs": [
    {
     "data": {
      "image/png": "[encoded data removed]",
      "text/latex": [
       "$\\displaystyle \\cosh{\\left(x_{0} \\right)} + \\cosh{\\left(x_{1} \\right)} + \\cosh{\\left(x_{2} \\right)} + \\cosh{\\left(x_{3} \\right)} + \\cosh{\\left(x_{4} \\right)}$"
      ],
      "text/plain": [
       "cosh(x₀) + cosh(x₁) + cosh(x₂) + cosh(x₃) + cosh(x₄)"
      ]
     },
     "execution_count": 106,
     "metadata": {},
     "output_type": "execute_result"
    }
   ],
   "source": [
    "fun=0\n",
    "for xi in x:\n",
    "    fun+=sp.cosh(xi)\n",
    "fun"
   ]
  },
  {
   "cell_type": "code",
   "execution_count": 107,
   "metadata": {},
   "outputs": [
    {
     "data": {
      "text/latex": [
       "$\\displaystyle \\left[\\begin{matrix}\\sinh{\\left(x_{0} \\right)} & \\sinh{\\left(x_{1} \\right)} & \\sinh{\\left(x_{2} \\right)} & \\sinh{\\left(x_{3} \\right)} & \\sinh{\\left(x_{4} \\right)}\\end{matrix}\\right]$"
      ],
      "text/plain": [
       "[sinh(x₀)  sinh(x₁)  sinh(x₂)  sinh(x₃)  sinh(x₄)]"
      ]
     },
     "execution_count": 107,
     "metadata": {},
     "output_type": "execute_result"
    }
   ],
   "source": [
    "fun1=derive_by_array(fun, x)\n",
    "fun1"
   ]
  },
  {
   "cell_type": "code",
   "execution_count": 108,
   "metadata": {},
   "outputs": [
    {
     "data": {
      "text/latex": [
       "$\\displaystyle \\left[\\begin{matrix}\\cosh{\\left(x_{0} \\right)} & 0 & 0 & 0 & 0\\\\0 & \\cosh{\\left(x_{1} \\right)} & 0 & 0 & 0\\\\0 & 0 & \\cosh{\\left(x_{2} \\right)} & 0 & 0\\\\0 & 0 & 0 & \\cosh{\\left(x_{3} \\right)} & 0\\\\0 & 0 & 0 & 0 & \\cosh{\\left(x_{4} \\right)}\\end{matrix}\\right]$"
      ],
      "text/plain": [
       "⎡cosh(x₀)     0         0         0         0    ⎤\n",
       "⎢                                                ⎥\n",
       "⎢   0      cosh(x₁)     0         0         0    ⎥\n",
       "⎢                                                ⎥\n",
       "⎢   0         0      cosh(x₂)     0         0    ⎥\n",
       "⎢                                                ⎥\n",
       "⎢   0         0         0      cosh(x₃)     0    ⎥\n",
       "⎢                                                ⎥\n",
       "⎣   0         0         0         0      cosh(x₄)⎦"
      ]
     },
     "execution_count": 108,
     "metadata": {},
     "output_type": "execute_result"
    }
   ],
   "source": [
    "fun2=derive_by_array(fun1, x)\n",
    "fun2 #sp.latex(fun2)"
   ]
  },
  {
   "cell_type": "code",
   "execution_count": 111,
   "metadata": {},
   "outputs": [],
   "source": [
    "num_fun=sp.lambdify([x],fun) #.evalf(xopt)\n",
    "num_fun1=sp.lambdify([x],fun1)\n",
    "num_fun2=sp.lambdify([x],fun2)"
   ]
  },
  {
   "cell_type": "code",
   "execution_count": 126,
   "metadata": {},
   "outputs": [
    {
     "data": {
      "image/png": "[encoded data removed]",
      "text/latex": [
       "$\\displaystyle 856.807428348486$"
      ],
      "text/plain": [
       "856.807428348486"
      ]
     },
     "execution_count": 126,
     "metadata": {},
     "output_type": "execute_result"
    }
   ],
   "source": [
    "a=5 ## xi in (-5;5)\n",
    "m=1\n",
    "M=np.sinh(a)\n",
    "K=M/m\n",
    "xopt=(0,0,0,0,0)\n",
    "x0=(1,2,3,4,5)\n",
    "eps=0.001\n",
    "k=np.log(((num_fun(x0)-num_fun(xopt)))/eps)/(np.log(K/(K-1)))\n",
    "k"
   ]
  },
  {
   "cell_type": "code",
   "execution_count": 124,
   "metadata": {},
   "outputs": [],
   "source": [
    "def gradient_descent(x, fun1, alpha=1.0, eps=0.001):\n",
    "    x=np.array(x,dtype=float)\n",
    "    i=0\n",
    "    while True:\n",
    "        i+=1\n",
    "        direction=np.array(fun1(x))\n",
    "        #print(direction,direction@direction)\n",
    "        #print(alpha,x)\n",
    "        x-=alpha*direction\n",
    "        step_length=direction@direction\n",
    "        if(  step_length < eps or step_length==float('inf')  ):\n",
    "            break\n",
    "    return x,i"
   ]
  },
  {
   "cell_type": "code",
   "execution_count": 127,
   "metadata": {},
   "outputs": [
    {
     "data": {
      "text/plain": [
       "(array([0.00777831, 0.01276387, 0.01508017, 0.01594874, 0.01616662]), 352)"
      ]
     },
     "execution_count": 127,
     "metadata": {},
     "output_type": "execute_result"
    }
   ],
   "source": [
    "gradient_descent(x0,num_fun1,alpha=1/M,eps=eps) #does step size means ||x_{n+1} - x_n||==step_size  or rather alpha=step_size  ?"
   ]
  },
  {
   "cell_type": "code",
   "execution_count": 154,
   "metadata": {},
   "outputs": [
    {
     "name": "stdout",
     "output_type": "stream",
     "text": [
      "True, iterations: 351 < k: 856.2723218299635\n",
      "True, iterations: 126 < k: 363.1251271840875\n",
      "True, iterations: 123 < k: 418.95650774738175\n",
      "True, iterations: 130 < k: 382.75296909691355\n",
      "True, iterations: 126 < k: 407.05713574158034\n",
      "True, iterations: 154 < k: 416.4351112936172\n",
      "True, iterations: 99 < k: 223.18576497687937\n",
      "True, iterations: 166 < k: 465.59311403137866\n",
      "True, iterations: 119 < k: 389.14166071154824\n",
      "True, iterations: 100 < k: 289.56584163315273\n"
     ]
    }
   ],
   "source": [
    "a=5 ## xi in (-5;5)\n",
    "m=1\n",
    "M=np.sinh(a)\n",
    "K=M/m\n",
    "xopt=(0,0,0,0,0)\n",
    "x0=(1,2,3,4,5)\n",
    "eps=0.001\n",
    "k=np.log(((num_fun(x0)-num_fun(xopt)))/eps)/(np.log(K/(K-1)))\n",
    "\n",
    "trials=10\n",
    "x0s=2*a*np.random.rand(trials,5)-a\n",
    "epss=10**np.log(np.random.rand(trials))\n",
    "for i in range(len(x0s)):\n",
    "    eps=epss[i]\n",
    "    x0=x0s[i]\n",
    "    k=np.log(((num_fun(x0)-num_fun(xopt)))/eps)/(np.log(K/(K-1)))\n",
    "    sol,iters=gradient_descent(x0,num_fun1,alpha=1/M,eps=eps)\n",
    "    print(\"{}, iterations: {} < k: {}\".format(iters<k,iters,k))"
   ]
  },
  {
   "cell_type": "markdown",
   "metadata": {},
   "source": [
    "# inne funkcje:\n",
    "..in progres.."
   ]
  },
  {
   "cell_type": "code",
   "execution_count": 159,
   "metadata": {},
   "outputs": [
    {
     "data": {
      "image/png": "[encoded data removed]",
      "text/latex": [
       "$\\displaystyle x^{3} + y^{3}$"
      ],
      "text/plain": [
       " 3    3\n",
       "x  + y "
      ]
     },
     "execution_count": 159,
     "metadata": {},
     "output_type": "execute_result"
    }
   ],
   "source": [
    "fun=sp.parsing.sympy_parser.parse_expr('x**3+y**3')\n",
    "fun"
   ]
  },
  {
   "cell_type": "code",
   "execution_count": 160,
   "metadata": {},
   "outputs": [
    {
     "data": {
      "text/latex": [
       "$\\displaystyle \\left[\\begin{matrix}3 x^{2} & 3 y^{2}\\end{matrix}\\right]$"
      ],
      "text/plain": [
       "⎡   2     2⎤\n",
       "⎣3⋅x   3⋅y ⎦"
      ]
     },
     "execution_count": 160,
     "metadata": {},
     "output_type": "execute_result"
    }
   ],
   "source": [
    "fun1=derive_by_array(fun, sp.symbols('x,y'))\n",
    "fun1"
   ]
  },
  {
   "cell_type": "code",
   "execution_count": 161,
   "metadata": {},
   "outputs": [
    {
     "data": {
      "text/latex": [
       "$\\displaystyle \\left[\\begin{matrix}6 x & 0\\\\0 & 6 y\\end{matrix}\\right]$"
      ],
      "text/plain": [
       "⎡6⋅x   0 ⎤\n",
       "⎢        ⎥\n",
       "⎣ 0   6⋅y⎦"
      ]
     },
     "execution_count": 161,
     "metadata": {},
     "output_type": "execute_result"
    }
   ],
   "source": [
    "fun2=derive_by_array(fun1, sp.symbols('x,y'))\n",
    "fun2 #sp.latex(fun2)"
   ]
  },
  {
   "cell_type": "code",
   "execution_count": null,
   "metadata": {},
   "outputs": [],
   "source": [
    "..."
   ]
  }
 ],
 "metadata": {
  "kernelspec": {
   "display_name": "Python 3",
   "language": "python",
   "name": "python3"
  },
  "language_info": {
   "codemirror_mode": {
    "name": "ipython",
    "version": 3
   },
   "file_extension": ".py",
   "mimetype": "text/x-python",
   "name": "python",
   "nbconvert_exporter": "python",
   "pygments_lexer": "ipython3",
   "version": "3.7.3"
  }
 },
 "nbformat": 4,
 "nbformat_minor": 4
}
